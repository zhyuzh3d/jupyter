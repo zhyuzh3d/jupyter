{
 "cells": [
  {
   "cell_type": "code",
   "execution_count": 1,
   "metadata": {},
   "outputs": [],
   "source": [
    "target='https://www.lagou.com/gongsi/searchPosition.json'\n",
    "payload={\n",
    "    'companyId':'94',\n",
    "    'positionFirstType': '全部',\n",
    "    'schoolJob': 'false',\n",
    "    'pageNo': '1',\n",
    "    'pageSize': '20',\n",
    "}\n",
    "payloadStr='?companyId=94&positionFirstType=全部&schoolJob=false&pageNo=1&pageSize=20'\n",
    "head2={\n",
    "    'Referer': 'https://www.lagou.com/gongsi/j451.html',\n",
    "    'Cookies':'JSESSIONID=ABAAABAAAGFABEF8929AE8AEDDF675B0A416152D50F1155; user_trace_token=20180914214240-a2c37a86-ee75-49d4-a447-7d7ec6386510; _ga=GA1.2.764376373.1536932562; LGUID=20180914214241-0d64224c-b824-11e8-b93f-5254005c3644; WEBTJ-ID=20180917170602-165e6c78d78209-0f57b07806360b-3461790f-1296000-165e6c78d7953; __utmc=14951595; __utmz=14951595.1537175176.1.1.utmcsr=m_cf_cpt_sogou_pc|utmccn=(not%20set)|utmcmd=(not%20set); X_HTTP_TOKEN=b53ce1f559f492d4aa675d08bfaa8d93; _putrc=67FE3A6CCEBE7074123F89F2B170EADC; login=true; hasDeliver=0; index_location_city=%E5%85%A8%E5%9B%BD; unick=%E6%8B%89%E5%8B%BE%E7%94%A8%E6%88%B75537; showExpriedIndex=1; showExpriedCompanyHome=1; showExpriedMyPublish=1; _gid=GA1.2.853917511.1537426344; Hm_lvt_4233e74dff0ae5bd0a3d81c6ccf756e6=1536932564,1537493466; gate_login_token=e01fa7850a51394ffaf71ed7c09e74a0334afbf26258a1058ad444e019a133cc; LGSID=20180922103307-d6c4847c-be0f-11e8-a53a-525400f775ce; PRE_UTM=; PRE_HOST=; PRE_SITE=https%3A%2F%2Fwww.lagou.com%2Fgongsi%2Fj94.html; PRE_LAND=https%3A%2F%2Fwww.lagou.com%2F; __utma=14951595.764376373.1536932562.1537580362.1537583590.10; SEARCH_ID=759313d5fde540a4a609d6c55ce0443d; Hm_lpvt_4233e74dff0ae5bd0a3d81c6ccf756e6=1537583786; LGRID=20180922103625-4d3f4735-be10-11e8-bb56-5254005c3644; __utmb=14951595.11.10.1537583590; TG-TRACK-CODE=hpage_code'\n",
    "}\n",
    "head={\n",
    "  \"Accept\": \"application/json, text/javascript, */*; q=0.01\",\n",
    "  \"Accept-Encoding\": \"gzip, deflate, br\",\n",
    "  \"Accept-Language\": \"zh-CN,zh;q=0.9,en;q=0.8,zh-TW;q=0.7\",\n",
    "  \"Connection\": \"keep-alive\",\n",
    "  \"Content-Type\": \"application/x-www-form-urlencoded; charset=UTF-8\",\n",
    "  \"Cookie\": \"JSESSIONID=ABAAABAAAGFABEF8929AE8AEDDF675B0A416152D50F1155; user_trace_token=20180914214240-a2c37a86-ee75-49d4-a447-7d7ec6386510; _ga=GA1.2.764376373.1536932562; LGUID=20180914214241-0d64224c-b824-11e8-b93f-5254005c3644; WEBTJ-ID=20180917170602-165e6c78d78209-0f57b07806360b-3461790f-1296000-165e6c78d7953; __utmc=14951595; __utmz=14951595.1537175176.1.1.utmcsr=m_cf_cpt_sogou_pc|utmccn=(not%20set)|utmcmd=(not%20set); X_HTTP_TOKEN=b53ce1f559f492d4aa675d08bfaa8d93; _putrc=67FE3A6CCEBE7074123F89F2B170EADC; login=true; hasDeliver=0; index_location_city=%E5%85%A8%E5%9B%BD; unick=%E6%8B%89%E5%8B%BE%E7%94%A8%E6%88%B75537; showExpriedIndex=1; showExpriedCompanyHome=1; showExpriedMyPublish=1; _gid=GA1.2.853917511.1537426344; Hm_lvt_4233e74dff0ae5bd0a3d81c6ccf756e6=1536932564,1537493466; SEARCH_ID=759313d5fde540a4a609d6c55ce0443d; TG-TRACK-CODE=hpage_code; LGSID=20180922120742-0d438d34-be1d-11e8-a53e-525400f775ce; PRE_UTM=; PRE_HOST=; PRE_SITE=https%3A%2F%2Fwww.lagou.com%2Fgongsi%2F451.html; PRE_LAND=https%3A%2F%2Fwww.lagou.com%2Fgongsi%2Fj451.html; gate_login_token=f49a4b3804568a0f8aa53f99e27cf19e28d0c6080dcdf1e3e9c32881f6e6a22e; __utma=14951595.764376373.1536932562.1537583590.1537589263.11; LGRID=20180922120743-0e58a756-be1d-11e8-a53e-525400f775ce; Hm_lpvt_4233e74dff0ae5bd0a3d81c6ccf756e6=1537589264; __utmb=14951595.2.10.1537589263\",\n",
    "  \"Host\": \"www.lagou.com\",\n",
    "  \"Origin\": \"https://www.lagou.com\",\n",
    "  \"Referer\": \"https://www.lagou.com/gongsi/j451.html\",\n",
    "  \"User-Agent\": \"Mozilla/5.0 (Macintosh; Intel Mac OS X 10_14_0) AppleWebKit/537.36 (KHTML, like Gecko) Chrome/69.0.3497.100 Safari/537.36\",\n",
    "  \"X-Anit-Forge-Code\": \"37682006\",\n",
    "  \"X-Anit-Forge-Token\": \"2150bb26-83f4-4016-8b90-f62e17181d7f\",\n",
    "  \"X-Requested-With\": \"XMLHttpRequest\"\n",
    "}"
   ]
  },
  {
   "cell_type": "code",
   "execution_count": 2,
   "metadata": {},
   "outputs": [
    {
     "ename": "KeyError",
     "evalue": "'Cookies'",
     "output_type": "error",
     "traceback": [
      "\u001b[0;31m---------------------------------------------------------------------------\u001b[0m",
      "\u001b[0;31mKeyError\u001b[0m                                  Traceback (most recent call last)",
      "\u001b[0;32m<ipython-input-2-ef477b13e589>\u001b[0m in \u001b[0;36m<module>\u001b[0;34m()\u001b[0m\n\u001b[1;32m      7\u001b[0m         \u001b[0mobj\u001b[0m\u001b[0;34m[\u001b[0m\u001b[0ml2\u001b[0m\u001b[0;34m[\u001b[0m\u001b[0;36m0\u001b[0m\u001b[0;34m]\u001b[0m\u001b[0;34m]\u001b[0m\u001b[0;34m=\u001b[0m\u001b[0ml2\u001b[0m\u001b[0;34m[\u001b[0m\u001b[0;36m1\u001b[0m\u001b[0;34m]\u001b[0m\u001b[0;34m\u001b[0m\u001b[0m\n\u001b[1;32m      8\u001b[0m     \u001b[0;32mreturn\u001b[0m \u001b[0mobj\u001b[0m\u001b[0;34m\u001b[0m\u001b[0m\n\u001b[0;32m----> 9\u001b[0;31m \u001b[0mhead\u001b[0m\u001b[0;34m[\u001b[0m\u001b[0;34m'Cookies'\u001b[0m\u001b[0;34m]\u001b[0m\u001b[0;34m=\u001b[0m\u001b[0mstr2obj\u001b[0m\u001b[0;34m(\u001b[0m\u001b[0mhead\u001b[0m\u001b[0;34m[\u001b[0m\u001b[0;34m'Cookies'\u001b[0m\u001b[0;34m]\u001b[0m\u001b[0;34m)\u001b[0m\u001b[0;34m\u001b[0m\u001b[0m\n\u001b[0m",
      "\u001b[0;31mKeyError\u001b[0m: 'Cookies'"
     ]
    }
   ],
   "source": [
    "def str2obj(s):\n",
    "    s=s.replace(' ','')\n",
    "    l=s.split(';')\n",
    "    obj={}\n",
    "    for kvs in l:\n",
    "        l2=kvs.split('=')\n",
    "        obj[l2[0]]=l2[1]\n",
    "    return obj\n",
    "head['Cookie']=str2obj(head['Cookie'])"
   ]
  },
  {
   "cell_type": "code",
   "execution_count": null,
   "metadata": {},
   "outputs": [],
   "source": [
    "import scrapy\n",
    "import json\n",
    "import time\n",
    "import math\n",
    "import random\n",
    "\n",
    "class MySpider(scrapy.Spider):\n",
    "    name = 'jobs'\n",
    "    rate = 1\n",
    "    custom_settings = {\n",
    "        'LOG_LEVEL': 'ERROR',\n",
    "    }\n",
    "    \n",
    "    def start_requests(self):\n",
    "        for i in range(1,20): \n",
    "            time.sleep(1)\n",
    "            payload['pageNo']=str(i)\n",
    "            req=scrapy.FormRequest(\n",
    "                url=target,\n",
    "                headers=head,\n",
    "                formdata=payload,\n",
    "                method='POST',\n",
    "                callback=self.gonext,\n",
    "                meta={\n",
    "                    'pageN':i\n",
    "                }\n",
    "            )\n",
    "            print('>>page:',i)\n",
    "            yield req\n",
    "        \n",
    "    def gonext(self,resp):\n",
    "        print('<<',resp.meta['pageN'],resp.text[0:100])"
   ]
  },
  {
   "cell_type": "code",
   "execution_count": null,
   "metadata": {},
   "outputs": [],
   "source": [
    "from scrapy.crawler import CrawlerProcess\n",
    "process = CrawlerProcess({\n",
    "        'USER_AGENT': 'Mozilla/4.0 (compatible; MSIE 7.0; Windows NT 5.1)',\n",
    "        'DOWNLOAD_DELAY': 0.1 ,#每次请求后延迟秒数\n",
    "        'CONCURRENT_REQUESTS_PER_DOMAIN':10,\n",
    "})\n",
    "process.crawl(MySpider)\n",
    "process.start()"
   ]
  }
 ],
 "metadata": {
  "kernelspec": {
   "display_name": "Python 3",
   "language": "python",
   "name": "python3"
  },
  "language_info": {
   "codemirror_mode": {
    "name": "ipython",
    "version": 3
   },
   "file_extension": ".py",
   "mimetype": "text/x-python",
   "name": "python",
   "nbconvert_exporter": "python",
   "pygments_lexer": "ipython3",
   "version": "3.6.5"
  }
 },
 "nbformat": 4,
 "nbformat_minor": 2
}
