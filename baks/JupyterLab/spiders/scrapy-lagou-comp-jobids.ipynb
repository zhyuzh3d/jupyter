{
 "cells": [
  {
   "cell_type": "code",
   "execution_count": 1,
   "metadata": {},
   "outputs": [],
   "source": [
    "#基本设置\n",
    "class target(): \n",
    "    url='https://www.lagou.com/gongsi/searchPosition.json'\n",
    "    formdata={\n",
    "        'companyId': '94',\n",
    "        'positionFirstType': '全部',\n",
    "        'schoolJob': 'false',\n",
    "        'pageNo': '1',\n",
    "        'pageSize': '20',\n",
    "    }\n",
    "    headers={\n",
    "        'User-Agent': 'Chrome/60',\n",
    "        'Referer': 'https://www.lagou.com/gongsi/j94.html'\n",
    "    }"
   ]
  },
  {
   "cell_type": "code",
   "execution_count": 2,
   "metadata": {},
   "outputs": [],
   "source": [
    "#爬取\n",
    "import scrapy\n",
    "import json\n",
    "import time\n",
    "\n",
    "pages=list(range(1,12)) #总计103个每页最多10个，jobsJson['content']['data']['page']['totalCount']\n",
    "\n",
    "class MySpider(scrapy.Spider):\n",
    "    name = 'jobs'\n",
    "    rate = 1\n",
    "    custom_settings = {\n",
    "        'LOG_LEVEL': 'ERROR',\n",
    "        'download_delay':'1'\n",
    "    }\n",
    "    \n",
    "    def start_requests(self):\n",
    "        if len(pages)>0:\n",
    "            time.sleep(0.5)\n",
    "            i=pages[0]\n",
    "            target.formdata['pageNo']=str(i)\n",
    "            req=scrapy.FormRequest(url=target.url,\n",
    "                                 headers=target.headers,\n",
    "                                 formdata=target.formdata,\n",
    "                                 method='POST',\n",
    "                                 callback=self.getJobIds,\n",
    "                                 dont_filter=True)\n",
    "            req.meta['page']=i                \n",
    "            yield req\n",
    "            \n",
    "    def sendPost(self,response):\n",
    "        if len(pages)>0:\n",
    "            i=pages[0]\n",
    "            target.formdata['pageNo']=str(i)\n",
    "            print('>>>>sendPost 111')\n",
    "            req=scrapy.FormRequest(url=target.url,\n",
    "                                 headers=target.headers,\n",
    "                                 formdata=target.formdata,\n",
    "                                 method='POST',\n",
    "                                 callback=self.getJobIds,\n",
    "                                 dont_filter=True)\n",
    "            req.meta['page']=i                \n",
    "            yield req\n",
    "            print('>>>>sendPost 222')\n",
    "\n",
    "     \n",
    "    def getJobIds(self, response):\n",
    "        print('>>>>getJobIds')\n",
    "        jobsJson=json.loads(response.text)\n",
    "        i=response.meta['page'];\n",
    "        print('>page:',jobsJson)\n",
    "        try:\n",
    "            print('page',str(i),',ok.')            \n",
    "            if i in pages: \n",
    "                print('del',str(i)) \n",
    "                del pages[pages.index(i)]\n",
    "                print(pages)\n",
    "#             result=jobsJson['content']['data']['page']['result']\n",
    "#             for job in result:\n",
    "#                 print(job['positionId'])            \n",
    "        except KeyError:\n",
    "            print('page',str(i),',failed.')\n",
    "            \n",
    "        print('>>>>xxxxxx33')\n",
    "        self.sendPost(self)\n",
    "            \n",
    "        \n"
   ]
  },
  {
   "cell_type": "code",
   "execution_count": 3,
   "metadata": {},
   "outputs": [
    {
     "name": "stderr",
     "output_type": "stream",
     "text": [
      "2018-09-21 20:23:06 [scrapy.utils.log] INFO: Scrapy 1.5.1 started (bot: scrapybot)\n",
      "2018-09-21 20:23:06 [scrapy.utils.log] INFO: Versions: lxml 4.2.1.0, libxml2 2.9.8, cssselect 1.0.3, parsel 1.5.0, w3lib 1.19.0, Twisted 17.5.0, Python 3.6.5 |Anaconda, Inc.| (default, Apr 26 2018, 08:42:37) - [GCC 4.2.1 Compatible Clang 4.0.1 (tags/RELEASE_401/final)], pyOpenSSL 18.0.0 (OpenSSL 1.0.2p  14 Aug 2018), cryptography 2.2.2, Platform Darwin-18.0.0-x86_64-i386-64bit\n",
      "2018-09-21 20:23:06 [scrapy.crawler] INFO: Overridden settings: {'CONCURRENT_REQUESTS_PER_DOMAIN': 1, 'DOWNLOAD_DELAY': 0.1, 'LOG_LEVEL': 'ERROR', 'USER_AGENT': 'Mozilla/4.0 (compatible; MSIE 7.0; Windows NT 5.1)'}\n"
     ]
    },
    {
     "name": "stdout",
     "output_type": "stream",
     "text": [
      ">>>>getJobIds\n",
      ">page: {'content': {'data': {'page': {'pageSize': 10, 'start': '0', 'result': [{'logger': {'traceCapable': True, 'name': 'com.lagou.entity.position.PositionVo'}, 'companyId': 94, 'positionId': 5161678, 'jobNature': '全职', 'financeStage': 'C轮', 'companyName': '思必驰科技', 'companyFullName': '苏州思必驰信息科技有限公司', 'companySize': '150-500人', 'industryField': '企业服务', 'positionName': '运维技术专家', 'city': '苏州', 'createTime': '12:18', 'salary': '15k-25k', 'workYear': '3-5年', 'education': '本科', 'positionAdvantage': '人工智能', 'companyLabelList': ['年底双薪', '五险一金', '弹性工作', '年度旅游'], 'userId': 179399, 'companyLogo': 'image1/M00/2E/DE/CgYXBlV_0c2AL_QDAAAINNDCg7o532.png', 'haveDeliver': False, 'score': 0, 'adWord': 0, 'adTimes': 0, 'adBeforeDetailPV': 0, 'adAfterDetailPV': 0, 'adBeforeReceivedCount': 0, 'adAfterReceivedCount': 0, 'isCalcScore': False, 'searchScore': 0.0, 'district': '工业园区'}, {'logger': {'traceCapable': True, 'name': 'com.lagou.entity.position.PositionVo'}, 'companyId': 94, 'positionId': 2905991, 'jobNature': '全职', 'financeStage': 'C轮', 'companyName': '思必驰科技', 'companyFullName': '苏州思必驰信息科技有限公司', 'companySize': '150-500人', 'industryField': '企业服务', 'positionName': '运维开发工程师', 'city': '苏州', 'createTime': '10:15', 'salary': '10k-20k', 'workYear': '3-5年', 'education': '本科', 'positionAdvantage': '人工智能公司，阿里投资背景', 'companyLabelList': ['年底双薪', '五险一金', '弹性工作', '年度旅游'], 'userId': 179399, 'companyLogo': 'image1/M00/2E/DE/CgYXBlV_0c2AL_QDAAAINNDCg7o532.png', 'haveDeliver': False, 'score': 0, 'adWord': 0, 'adTimes': 0, 'adBeforeDetailPV': 0, 'adAfterDetailPV': 0, 'adBeforeReceivedCount': 0, 'adAfterReceivedCount': 0, 'isCalcScore': False, 'searchScore': 0.0, 'district': '工业园区'}, {'logger': {'traceCapable': True, 'name': 'com.lagou.entity.position.PositionVo'}, 'companyId': 94, 'positionId': 4479976, 'jobNature': '全职', 'financeStage': 'C轮', 'companyName': '思必驰科技', 'companyFullName': '苏州思必驰信息科技有限公司', 'companySize': '150-500人', 'industryField': '企业服务', 'positionName': '产品运营', 'city': '苏州', 'createTime': '10:14', 'salary': '10k-20k', 'workYear': '3-5年', 'education': '本科', 'positionAdvantage': '人工智能', 'companyLabelList': ['年底双薪', '五险一金', '弹性工作', '年度旅游'], 'userId': 179399, 'companyLogo': 'image1/M00/2E/DE/CgYXBlV_0c2AL_QDAAAINNDCg7o532.png', 'haveDeliver': False, 'score': 0, 'adWord': 0, 'adTimes': 0, 'adBeforeDetailPV': 0, 'adAfterDetailPV': 0, 'adBeforeReceivedCount': 0, 'adAfterReceivedCount': 0, 'isCalcScore': False, 'searchScore': 0.0, 'district': '工业园区'}, {'logger': {'traceCapable': True, 'name': 'com.lagou.entity.position.PositionVo'}, 'companyId': 94, 'positionId': 4640457, 'jobNature': '全职', 'financeStage': 'C轮', 'companyName': '思必驰科技', 'companyFullName': '苏州思必驰信息科技有限公司', 'companySize': '150-500人', 'industryField': '企业服务', 'positionName': '测试开发工程师（Linux /android）', 'city': '苏州', 'createTime': '10:14', 'salary': '10k-20k', 'workYear': '3-5年', 'education': '本科', 'positionAdvantage': '人工智能', 'companyLabelList': ['年底双薪', '五险一金', '弹性工作', '年度旅游'], 'userId': 179399, 'companyLogo': 'image1/M00/2E/DE/CgYXBlV_0c2AL_QDAAAINNDCg7o532.png', 'haveDeliver': False, 'score': 0, 'adWord': 0, 'adTimes': 0, 'adBeforeDetailPV': 0, 'adAfterDetailPV': 0, 'adBeforeReceivedCount': 0, 'adAfterReceivedCount': 0, 'isCalcScore': False, 'searchScore': 0.0, 'district': '工业园区'}, {'logger': {'traceCapable': True, 'name': 'com.lagou.entity.position.PositionVo'}, 'companyId': 94, 'positionId': 4388374, 'jobNature': '全职', 'financeStage': 'C轮', 'companyName': '思必驰科技', 'companyFullName': '苏州思必驰信息科技有限公司', 'companySize': '150-500人', 'industryField': '企业服务', 'positionName': '服务端测试开发工程师', 'city': '苏州', 'createTime': '10:10', 'salary': '10k-20k', 'workYear': '3-5年', 'education': '本科', 'positionAdvantage': '人工智能', 'companyLabelList': ['年底双薪', '五险一金', '弹性工作', '年度旅游'], 'userId': 179399, 'companyLogo': 'image1/M00/2E/DE/CgYXBlV_0c2AL_QDAAAINNDCg7o532.png', 'haveDeliver': False, 'score': 0, 'adWord': 0, 'adTimes': 0, 'adBeforeDetailPV': 0, 'adAfterDetailPV': 0, 'adBeforeReceivedCount': 0, 'adAfterReceivedCount': 0, 'isCalcScore': False, 'searchScore': 0.0, 'district': '工业园区'}, {'logger': {'traceCapable': True, 'name': 'com.lagou.entity.position.PositionVo'}, 'companyId': 94, 'positionId': 4359732, 'jobNature': '全职', 'financeStage': 'C轮', 'companyName': '思必驰科技', 'companyFullName': '苏州思必驰信息科技有限公司', 'companySize': '150-500人', 'industryField': '企业服务', 'positionName': '测试开发工程师/高级测试开发工程师', 'city': '苏州', 'createTime': '10:07', 'salary': '10k-20k', 'workYear': '3-5年', 'education': '本科', 'positionAdvantage': '亿级用户', 'companyLabelList': ['年底双薪', '五险一金', '弹性工作', '年度旅游'], 'userId': 179399, 'companyLogo': 'image1/M00/2E/DE/CgYXBlV_0c2AL_QDAAAINNDCg7o532.png', 'haveDeliver': False, 'score': 0, 'adWord': 0, 'adTimes': 0, 'adBeforeDetailPV': 0, 'adAfterDetailPV': 0, 'adBeforeReceivedCount': 0, 'adAfterReceivedCount': 0, 'isCalcScore': False, 'searchScore': 0.0, 'district': '工业园区'}, {'logger': {'traceCapable': True, 'name': 'com.lagou.entity.position.PositionVo'}, 'companyId': 94, 'positionId': 4858284, 'jobNature': '全职', 'financeStage': 'C轮', 'companyName': '思必驰科技', 'companyFullName': '苏州思必驰信息科技有限公司', 'companySize': '150-500人', 'industryField': '企业服务', 'positionName': '高级BD经理', 'city': '北京', 'createTime': '10:03', 'salary': '15k-25k', 'workYear': '3-5年', 'education': '本科', 'positionAdvantage': '人工智能', 'companyLabelList': ['年底双薪', '五险一金', '弹性工作', '年度旅游'], 'userId': 179399, 'companyLogo': 'image1/M00/2E/DE/CgYXBlV_0c2AL_QDAAAINNDCg7o532.png', 'haveDeliver': False, 'score': 0, 'adWord': 0, 'adTimes': 0, 'adBeforeDetailPV': 0, 'adAfterDetailPV': 0, 'adBeforeReceivedCount': 0, 'adAfterReceivedCount': 0, 'isCalcScore': False, 'searchScore': 0.0, 'district': '海淀区'}, {'logger': {'traceCapable': True, 'name': 'com.lagou.entity.position.PositionVo'}, 'companyId': 94, 'positionId': 4904903, 'jobNature': '全职', 'financeStage': 'C轮', 'companyName': '思必驰科技', 'companyFullName': '苏州思必驰信息科技有限公司', 'companySize': '150-500人', 'industryField': '企业服务', 'positionName': '内容BD经理', 'city': '北京', 'createTime': '10:03', 'salary': '15k-30k', 'workYear': '3-5年', 'education': '本科', 'positionAdvantage': '人工智能', 'companyLabelList': ['年底双薪', '五险一金', '弹性工作', '年度旅游'], 'userId': 179399, 'companyLogo': 'image1/M00/2E/DE/CgYXBlV_0c2AL_QDAAAINNDCg7o532.png', 'haveDeliver': False, 'score': 0, 'adWord': 0, 'adTimes': 0, 'adBeforeDetailPV': 0, 'adAfterDetailPV': 0, 'adBeforeReceivedCount': 0, 'adAfterReceivedCount': 0, 'isCalcScore': False, 'searchScore': 0.0, 'district': '海淀区'}, {'logger': {'traceCapable': True, 'name': 'com.lagou.entity.position.PositionVo'}, 'companyId': 94, 'positionId': 4315479, 'jobNature': '全职', 'financeStage': 'C轮', 'companyName': '思必驰科技', 'companyFullName': '苏州思必驰信息科技有限公司', 'companySize': '150-500人', 'industryField': '企业服务', 'positionName': '云服务架构师', 'city': '苏州', 'createTime': '10:02', 'salary': '20k-40k', 'workYear': '5-10年', 'education': '本科', 'positionAdvantage': '亿级设备,亿级用户,人工智能', 'companyLabelList': ['年底双薪', '五险一金', '弹性工作', '年度旅游'], 'userId': 179399, 'companyLogo': 'image1/M00/2E/DE/CgYXBlV_0c2AL_QDAAAINNDCg7o532.png', 'haveDeliver': False, 'score': 0, 'adWord': 0, 'adTimes': 0, 'adBeforeDetailPV': 0, 'adAfterDetailPV': 0, 'adBeforeReceivedCount': 0, 'adAfterReceivedCount': 0, 'isCalcScore': False, 'searchScore': 0.0, 'district': '工业园区'}, {'logger': {'traceCapable': True, 'name': 'com.lagou.entity.position.PositionVo'}, 'companyId': 94, 'positionId': 3447969, 'jobNature': '全职', 'financeStage': 'C轮', 'companyName': '思必驰科技', 'companyFullName': '苏州思必驰信息科技有限公司', 'companySize': '150-500人', 'industryField': '企业服务', 'positionName': 'Java后台开发工程师', 'city': '苏州', 'createTime': '10:01', 'salary': '10k-20k', 'workYear': '3-5年', 'education': '大专', 'positionAdvantage': '人工智能公司，阿里投资背景', 'companyLabelList': ['年底双薪', '五险一金', '弹性工作', '年度旅游'], 'userId': 179399, 'companyLogo': 'image1/M00/2E/DE/CgYXBlV_0c2AL_QDAAAINNDCg7o532.png', 'haveDeliver': False, 'score': 0, 'adWord': 0, 'adTimes': 0, 'adBeforeDetailPV': 0, 'adAfterDetailPV': 0, 'adBeforeReceivedCount': 0, 'adAfterReceivedCount': 0, 'isCalcScore': False, 'searchScore': 0.0, 'district': '工业园区'}], 'totalCount': '104', 'pageNo': 1}, 'hrInfoMap': {'4858284': {'userId': 179399, 'realName': '思必驰HR', 'positionName': '人力资源', 'userLevel': 'G1', 'canTalk': True}, '4315479': {'userId': 179399, 'realName': '思必驰HR', 'positionName': '人力资源', 'userLevel': 'G1', 'canTalk': True}, '5161678': {'userId': 179399, 'realName': '思必驰HR', 'positionName': '人力资源', 'userLevel': 'G1', 'canTalk': True}, '4388374': {'userId': 179399, 'realName': '思必驰HR', 'positionName': '人力资源', 'userLevel': 'G1', 'canTalk': True}, '3447969': {'userId': 179399, 'realName': '思必驰HR', 'positionName': '人力资源', 'userLevel': 'G1', 'canTalk': True}, '4479976': {'userId': 179399, 'realName': '思必驰HR', 'positionName': '人力资源', 'userLevel': 'G1', 'canTalk': True}, '4359732': {'userId': 179399, 'realName': '思必驰HR', 'positionName': '人力资源', 'userLevel': 'G1', 'canTalk': True}, '2905991': {'userId': 179399, 'realName': '思必驰HR', 'positionName': '人力资源', 'userLevel': 'G1', 'canTalk': True}, '4640457': {'userId': 179399, 'realName': '思必驰HR', 'positionName': '人力资源', 'userLevel': 'G1', 'canTalk': True}, '4904903': {'userId': 179399, 'realName': '思必驰HR', 'positionName': '人力资源', 'userLevel': 'G1', 'canTalk': True}}}, 'rows': []}, 'message': '操作成功', 'state': 1}\n",
      "page 1 ,ok.\n",
      "del 1\n",
      "[2, 3, 4, 5, 6, 7, 8, 9, 10, 11]\n",
      ">>>>xxxxxx33\n"
     ]
    }
   ],
   "source": [
    "from scrapy.crawler import CrawlerProcess\n",
    "process = CrawlerProcess({\n",
    "        'USER_AGENT': 'Mozilla/4.0 (compatible; MSIE 7.0; Windows NT 5.1)',\n",
    "        'DOWNLOAD_DELAY': 0.1 ,#每次请求后延迟秒数\n",
    "        'CONCURRENT_REQUESTS_PER_DOMAIN':1,\n",
    "})\n",
    "process.crawl(MySpider)\n",
    "process.start()"
   ]
  }
 ],
 "metadata": {
  "kernelspec": {
   "display_name": "Python 3",
   "language": "python",
   "name": "python3"
  },
  "language_info": {
   "codemirror_mode": {
    "name": "ipython",
    "version": 3
   },
   "file_extension": ".py",
   "mimetype": "text/x-python",
   "name": "python",
   "nbconvert_exporter": "python",
   "pygments_lexer": "ipython3",
   "version": "3.6.5"
  }
 },
 "nbformat": 4,
 "nbformat_minor": 2
}
