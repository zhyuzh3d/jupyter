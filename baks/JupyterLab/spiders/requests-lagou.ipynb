{
 "cells": [
  {
   "cell_type": "code",
   "execution_count": 1,
   "metadata": {},
   "outputs": [],
   "source": [
    "url='https://www.lagou.com/gongsi/searchPosition.json'\n",
    "payload={\n",
    "    'companyId':'451',\n",
    "    'positionFirstType': '全部',\n",
    "    'schoolJob': 'false',\n",
    "    'pageNo': '1',\n",
    "    'pageSize': '20',\n",
    "}\n",
    "headers={\n",
    "  \"Accept\": \"application/json, text/javascript, */*; q=0.01\",\n",
    "  \"Accept-Encoding\": \"gzip, deflate, br\",\n",
    "  \"Accept-Language\": \"zh-CN,zh;q=0.9,en;q=0.8,zh-TW;q=0.7\",\n",
    "  \"Connection\": \"keep-alive\",\n",
    "  \"Content-Type\": \"application/x-www-form-urlencoded; charset=UTF-8\",\n",
    "  \"Cookie\": \"JSESSIONID=ABAAABAAAGFABEF8929AE8AEDDF675B0A416152D50F1155; user_trace_token=20180914214240-a2c37a86-ee75-49d4-a447-7d7ec6386510; _ga=GA1.2.764376373.1536932562; LGUID=20180914214241-0d64224c-b824-11e8-b93f-5254005c3644; WEBTJ-ID=20180917170602-165e6c78d78209-0f57b07806360b-3461790f-1296000-165e6c78d7953; __utmc=14951595; __utmz=14951595.1537175176.1.1.utmcsr=m_cf_cpt_sogou_pc|utmccn=(not%20set)|utmcmd=(not%20set); X_HTTP_TOKEN=b53ce1f559f492d4aa675d08bfaa8d93; _putrc=67FE3A6CCEBE7074123F89F2B170EADC; login=true; hasDeliver=0; index_location_city=%E5%85%A8%E5%9B%BD; unick=%E6%8B%89%E5%8B%BE%E7%94%A8%E6%88%B75537; showExpriedIndex=1; showExpriedCompanyHome=1; showExpriedMyPublish=1; _gid=GA1.2.853917511.1537426344; Hm_lvt_4233e74dff0ae5bd0a3d81c6ccf756e6=1536932564,1537493466; SEARCH_ID=759313d5fde540a4a609d6c55ce0443d; TG-TRACK-CODE=hpage_code; LGSID=20180922120742-0d438d34-be1d-11e8-a53e-525400f775ce; PRE_UTM=; PRE_HOST=; PRE_SITE=https%3A%2F%2Fwww.lagou.com%2Fgongsi%2F451.html; PRE_LAND=https%3A%2F%2Fwww.lagou.com%2Fgongsi%2Fj451.html; gate_login_token=f49a4b3804568a0f8aa53f99e27cf19e28d0c6080dcdf1e3e9c32881f6e6a22e; __utma=14951595.764376373.1536932562.1537583590.1537589263.11; LGRID=20180922120743-0e58a756-be1d-11e8-a53e-525400f775ce; Hm_lpvt_4233e74dff0ae5bd0a3d81c6ccf756e6=1537589264; __utmb=14951595.2.10.1537589263\",\n",
    "  \"Host\": \"www.lagou.com\",\n",
    "  \"Origin\": \"https://www.lagou.com\",\n",
    "  \"Referer\": \"https://www.lagou.com/gongsi/j451.html\",\n",
    "  \"User-Agent\": \"Mozilla/5.0 (Macintosh; Intel Mac OS X 10_14_0) AppleWebKit/537.36 (KHTML, like Gecko) Chrome/69.0.3497.100 Safari/537.36\",\n",
    "  \"X-Anit-Forge-Code\": \"37682006\",\n",
    "  \"X-Anit-Forge-Token\": \"2150bb26-83f4-4016-8b90-f62e17181d7f\",\n",
    "  \"X-Requested-With\": \"XMLHttpRequest\"\n",
    "}"
   ]
  },
  {
   "cell_type": "code",
   "execution_count": 2,
   "metadata": {},
   "outputs": [
    {
     "name": "stdout",
     "output_type": "stream",
     "text": [
      "1 : {\"content\":{\"data\":{\"page\":{\"pageSize\":10,\"start\":\"0\",\"result\":[{\"logger\":{\"traceCapable\":true,\"name\":\"com.lagou.entity.position.PositionVo\"},\"companyId\":451,\"p\n",
      "2 : {\"content\":{\"data\":{\"page\":{\"pageSize\":10,\"start\":\"15\",\"result\":[{\"logger\":{\"traceCapable\":true,\"name\":\"com.lagou.entity.position.PositionVo\"},\"companyId\":451,\"\n",
      "3 : {\"content\":{\"data\":{\"page\":{\"pageSize\":10,\"start\":\"30\",\"result\":[{\"logger\":{\"traceCapable\":true,\"name\":\"com.lagou.entity.position.PositionVo\"},\"companyId\":451,\"\n",
      "4 : {\"content\":{\"data\":{\"page\":{\"pageSize\":10,\"start\":\"45\",\"result\":[{\"logger\":{\"traceCapable\":true,\"name\":\"com.lagou.entity.position.PositionVo\"},\"companyId\":451,\"\n",
      "5 : {\"content\":{\"data\":{\"page\":{\"pageSize\":10,\"start\":\"60\",\"result\":[{\"logger\":{\"traceCapable\":true,\"name\":\"com.lagou.entity.position.PositionVo\"},\"companyId\":451,\"\n",
      "6 : {\"content\":{\"data\":{\"page\":{\"pageSize\":10,\"start\":\"75\",\"result\":[{\"logger\":{\"traceCapable\":true,\"name\":\"com.lagou.entity.position.PositionVo\"},\"companyId\":451,\"\n",
      "7 : {\"content\":{\"data\":{\"page\":{\"pageSize\":10,\"start\":\"90\",\"result\":[{\"logger\":{\"traceCapable\":true,\"name\":\"com.lagou.entity.position.PositionVo\"},\"companyId\":451,\"\n",
      "8 : {\"content\":{\"data\":{\"page\":{\"pageSize\":10,\"start\":\"105\",\"result\":[{\"logger\":{\"traceCapable\":true,\"name\":\"com.lagou.entity.position.PositionVo\"},\"companyId\":451,\n",
      "9 : {\"content\":{\"data\":{\"page\":{\"pageSize\":10,\"start\":\"120\",\"result\":[{\"logger\":{\"traceCapable\":true,\"name\":\"com.lagou.entity.position.PositionVo\"},\"companyId\":451,\n",
      "10 : {\"content\":{\"data\":{\"page\":{\"pageSize\":10,\"start\":\"135\",\"result\":[{\"logger\":{\"traceCapable\":true,\"name\":\"com.lagou.entity.position.PositionVo\"},\"companyId\":451,\n",
      "11 : {\"content\":{\"data\":{\"page\":{\"pageSize\":10,\"start\":\"150\",\"result\":[{\"logger\":{\"traceCapable\":true,\"name\":\"com.lagou.entity.position.PositionVo\"},\"companyId\":451,\n",
      "12 : {\"content\":{\"data\":{\"page\":{\"pageSize\":10,\"start\":\"165\",\"result\":[{\"logger\":{\"traceCapable\":true,\"name\":\"com.lagou.entity.position.PositionVo\"},\"companyId\":451,\n",
      "13 : {\"content\":{\"data\":{\"page\":{\"pageSize\":10,\"start\":\"180\",\"result\":[{\"logger\":{\"traceCapable\":true,\"name\":\"com.lagou.entity.position.PositionVo\"},\"companyId\":451,\n",
      "14 : {\"content\":{\"data\":{\"page\":{\"pageSize\":10,\"start\":\"195\",\"result\":[{\"logger\":{\"traceCapable\":true,\"name\":\"com.lagou.entity.position.PositionVo\"},\"companyId\":451,\n",
      "15 : {\"content\":{\"data\":{\"page\":{\"pageSize\":10,\"start\":\"210\",\"result\":[{\"logger\":{\"traceCapable\":true,\"name\":\"com.lagou.entity.position.PositionVo\"},\"companyId\":451,\n",
      "16 : {\"content\":{\"data\":{\"page\":{\"pageSize\":10,\"start\":\"225\",\"result\":[{\"logger\":{\"traceCapable\":true,\"name\":\"com.lagou.entity.position.PositionVo\"},\"companyId\":451,\n",
      "17 : {\"content\":{\"data\":{\"page\":{\"pageSize\":10,\"start\":\"240\",\"result\":[{\"logger\":{\"traceCapable\":true,\"name\":\"com.lagou.entity.position.PositionVo\"},\"companyId\":451,\n",
      "18 : {\"content\":{\"data\":{\"page\":{\"pageSize\":10,\"start\":\"255\",\"result\":[{\"logger\":{\"traceCapable\":true,\"name\":\"com.lagou.entity.position.PositionVo\"},\"companyId\":451,\n",
      "19 : {\"content\":{\"data\":{\"page\":{\"pageSize\":10,\"start\":\"270\",\"result\":[{\"logger\":{\"traceCapable\":true,\"name\":\"com.lagou.entity.position.PositionVo\"},\"companyId\":451,\n",
      "20 : {\"content\":{\"data\":{\"page\":{\"pageSize\":10,\"start\":\"285\",\"result\":[{\"logger\":{\"traceCapable\":true,\"name\":\"com.lagou.entity.position.PositionVo\"},\"companyId\":451,\n",
      "21 : {\"content\":{\"data\":{\"page\":{\"pageSize\":10,\"start\":\"300\",\"result\":[{\"logger\":{\"traceCapable\":true,\"name\":\"com.lagou.entity.position.PositionVo\"},\"companyId\":451,\n",
      "22 : {\"content\":{\"data\":{\"page\":{\"pageSize\":10,\"start\":\"315\",\"result\":[{\"logger\":{\"traceCapable\":true,\"name\":\"com.lagou.entity.position.PositionVo\"},\"companyId\":451,\n",
      "23 : {\"content\":{\"data\":{\"page\":{\"pageSize\":10,\"start\":\"330\",\"result\":[{\"logger\":{\"traceCapable\":true,\"name\":\"com.lagou.entity.position.PositionVo\"},\"companyId\":451,\n",
      "24 : {\"content\":{\"data\":{\"page\":{\"pageSize\":10,\"start\":\"345\",\"result\":[{\"logger\":{\"traceCapable\":true,\"name\":\"com.lagou.entity.position.PositionVo\"},\"companyId\":451,\n",
      "25 : {\"content\":{\"data\":{\"page\":{\"pageSize\":10,\"start\":\"360\",\"result\":[{\"logger\":{\"traceCapable\":true,\"name\":\"com.lagou.entity.position.PositionVo\"},\"companyId\":451,\n",
      "26 : {\"content\":{\"data\":{\"page\":{\"pageSize\":10,\"start\":\"375\",\"result\":[{\"logger\":{\"traceCapable\":true,\"name\":\"com.lagou.entity.position.PositionVo\"},\"companyId\":451,\n",
      "27 : {\"content\":{\"data\":{\"page\":{\"pageSize\":10,\"start\":\"390\",\"result\":[{\"logger\":{\"traceCapable\":true,\"name\":\"com.lagou.entity.position.PositionVo\"},\"companyId\":451,\n",
      "28 : {\"content\":{\"data\":{\"page\":{\"pageSize\":10,\"start\":\"405\",\"result\":[{\"logger\":{\"traceCapable\":true,\"name\":\"com.lagou.entity.position.PositionVo\"},\"companyId\":451,\n",
      "29 : {\"content\":{\"data\":{\"page\":{\"pageSize\":10,\"start\":\"420\",\"result\":[{\"logger\":{\"traceCapable\":true,\"name\":\"com.lagou.entity.position.PositionVo\"},\"companyId\":451,\n"
     ]
    }
   ],
   "source": [
    "import requests\n",
    "import time\n",
    "\n",
    "for i in range(1,30):\n",
    "    time.sleep(1)\n",
    "    payload['pageNo']=str(i)\n",
    "    resp=requests.get(url, params=payload,headers=headers)\n",
    "    print(i,':',resp.text[0:160])\n",
    "        \n",
    "        "
   ]
  }
 ],
 "metadata": {
  "kernelspec": {
   "display_name": "Python 3",
   "language": "python",
   "name": "python3"
  },
  "language_info": {
   "codemirror_mode": {
    "name": "ipython",
    "version": 3
   },
   "file_extension": ".py",
   "mimetype": "text/x-python",
   "name": "python",
   "nbconvert_exporter": "python",
   "pygments_lexer": "ipython3",
   "version": "3.6.5"
  }
 },
 "nbformat": 4,
 "nbformat_minor": 2
}
