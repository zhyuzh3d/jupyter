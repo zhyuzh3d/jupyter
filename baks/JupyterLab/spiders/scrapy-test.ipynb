{
 "cells": [
  {
   "cell_type": "code",
   "execution_count": 1,
   "metadata": {},
   "outputs": [],
   "source": [
    "url='https://www.lagou.com/gongsi/searchPosition.json?companyId=94&positionFirstType=%E5%85%A8%E9%83%A8&schoolJob=false&pageNo=1&pageSize=10'\n",
    "postData={\n",
    "    'companyId':'94',\n",
    "    'positionFirstType':'全部',\n",
    "    'schoolJob':'false',\n",
    "    'pageNo':'1',\n",
    "    'pageSize':'100',\n",
    "}\n",
    "headersData={\n",
    "    'Host': 'www.lagou.com',\n",
    "    'Connection': 'keep-alive',\n",
    "    'Content-Length': '86',\n",
    "    'Origin': 'https://www.lagou.com',\n",
    "    'X-Anit-Forge-Code': '82949824',\n",
    "    'User-Agent': 'Mozilla/5.0 (Macintosh; Intel Mac OS X 10_14_0) AppleWebKit/537.36 (KHTML, like Gecko) Chrome/68.0.3440.106 Safari/537.36',\n",
    "    'Content-Type': 'application/x-www-form-urlencoded; charset=UTF-8',\n",
    "    'Accept': 'application/json, text/javascript, */*; q=0.01',\n",
    "    'X-Requested-With': 'XMLHttpRequest',\n",
    "    'X-Anit-Forge-Token': '96bdb151-34d7-4b9e-94ed-bc1ccbace792',\n",
    "    'Referer': 'https://www.lagou.com/gongsi/j94.html',\n",
    "    'Accept-Encoding': 'gzip, deflate, br',\n",
    "    'Accept-Language': 'zh-CN,zh;q=0.9,en;q=0.8,zh-TW;q=0.7',\n",
    "}\n"
   ]
  },
  {
   "cell_type": "code",
   "execution_count": 2,
   "metadata": {},
   "outputs": [],
   "source": [
    "import scrapy\n",
    "class MySpider(scrapy.Spider):\n",
    "    name = 'test'\n",
    "    allowed_domains = ['www.lagou.com']\n",
    "    start_urls=['https://www.lagou.com/gongsi/searchPosition.json?companyId=94&positionFirstType=%E5%85%A8%E9%83%A8&schoolJob=false&pageNo=1&pageSize=10']\n",
    "    headers={\n",
    "        'Referer': 'https://www.lagou.com/gongsi/j94.html'\n",
    "    }\n",
    "    method:'POST'\n",
    "    custom_settings = {\n",
    "        'LOG_LEVEL': 'ERROR',\n",
    "    }\n",
    "#     def start_requests(self):\n",
    "#         req=scrapy.FormRequest(url,\n",
    "#                                method = 'POST', \n",
    "#                                headers = headersData, \n",
    "#                                formdata=postData, \n",
    "#                                callback = self.parse)\n",
    "#         return [req]\n",
    "    \n",
    "    def parse(self, response):\n",
    "        print(response.text)\n",
    "        pass"
   ]
  },
  {
   "cell_type": "code",
   "execution_count": 3,
   "metadata": {},
   "outputs": [
    {
     "name": "stderr",
     "output_type": "stream",
     "text": [
      "2018-09-21 08:07:07 [scrapy.utils.log] INFO: Scrapy 1.5.1 started (bot: scrapybot)\n",
      "2018-09-21 08:07:07 [scrapy.utils.log] INFO: Versions: lxml 4.2.1.0, libxml2 2.9.8, cssselect 1.0.3, parsel 1.5.0, w3lib 1.19.0, Twisted 17.5.0, Python 3.6.5 |Anaconda, Inc.| (default, Apr 26 2018, 08:42:37) - [GCC 4.2.1 Compatible Clang 4.0.1 (tags/RELEASE_401/final)], pyOpenSSL 18.0.0 (OpenSSL 1.0.2p  14 Aug 2018), cryptography 2.2.2, Platform Darwin-18.0.0-x86_64-i386-64bit\n",
      "2018-09-21 08:07:07 [scrapy.crawler] INFO: Overridden settings: {'LOG_LEVEL': 'ERROR'}\n"
     ]
    },
    {
     "name": "stdout",
     "output_type": "stream",
     "text": [
      "{\"success\":false,\"msg\":\"您操作太频繁,请稍后再访问\",\"clientIp\":\"222.92.255.178\"}\n",
      "\n"
     ]
    }
   ],
   "source": [
    "from scrapy.crawler import CrawlerProcess\n",
    "from scrapy.utils.project import get_project_settings\n",
    "process = CrawlerProcess(get_project_settings())\n",
    "process.crawl(MySpider)\n",
    "process.start()"
   ]
  }
 ],
 "metadata": {
  "kernelspec": {
   "display_name": "Python 3",
   "language": "python",
   "name": "python3"
  },
  "language_info": {
   "codemirror_mode": {
    "name": "ipython",
    "version": 3
   },
   "file_extension": ".py",
   "mimetype": "text/x-python",
   "name": "python",
   "nbconvert_exporter": "python",
   "pygments_lexer": "ipython3",
   "version": "3.6.5"
  }
 },
 "nbformat": 4,
 "nbformat_minor": 2
}
