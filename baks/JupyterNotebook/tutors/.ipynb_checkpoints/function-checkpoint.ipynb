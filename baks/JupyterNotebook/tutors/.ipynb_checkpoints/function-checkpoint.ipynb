{
 "cells": [
  {
   "cell_type": "code",
   "execution_count": 8,
   "metadata": {},
   "outputs": [
    {
     "name": "stdout",
     "output_type": "stream",
     "text": [
      "10\n",
      "90\n"
     ]
    }
   ],
   "source": [
    "#if返回值\n",
    "def a(a):\n",
    "    if a==0:\n",
    "        return 10\n",
    "    else:\n",
    "        return 1\n",
    "    \n",
    "def b(a,b):\n",
    "    if a==0:\n",
    "        if b==0:\n",
    "            return 90\n",
    "        else:\n",
    "            return 9\n",
    "    else:\n",
    "        return 1\n",
    "    \n",
    "print(a(0))\n",
    "print(b(0,0))"
   ]
  },
  {
   "cell_type": "code",
   "execution_count": 9,
   "metadata": {},
   "outputs": [
    {
     "name": "stdout",
     "output_type": "stream",
     "text": [
      "1537577117.174143\n"
     ]
    }
   ],
   "source": [
    "#time.time()输出秒\n",
    "import time\n",
    "print(time.time())"
   ]
  },
  {
   "cell_type": "code",
   "execution_count": 11,
   "metadata": {},
   "outputs": [
    {
     "name": "stdout",
     "output_type": "stream",
     "text": [
      "0.7946971322020269\n"
     ]
    }
   ],
   "source": [
    "#随机小数\n",
    "import random\n",
    "print(random.uniform(0.1,1))"
   ]
  },
  {
   "cell_type": "code",
   "execution_count": 12,
   "metadata": {},
   "outputs": [
    {
     "name": "stdout",
     "output_type": "stream",
     "text": [
      "fe48a5ed-cbd5-4b3f-91b5-4cd0075f3638\n"
     ]
    }
   ],
   "source": [
    "import uuid\n",
    "print(uuid.uuid4())"
   ]
  },
  {
   "cell_type": "code",
   "execution_count": null,
   "metadata": {},
   "outputs": [],
   "source": [
    "JSESSIONID=ABAAABAAAGFABEF8929AE8AEDDF675B0A416152D50F1155; user_trace_token=20180914214240-a2c37a86-ee75-49d4-a447-7d7ec6386510; _ga=GA1.2.764376373.1536932562; LGUID=20180914214241-0d64224c-b824-11e8-b93f-5254005c3644; WEBTJ-ID=20180917170602-165e6c78d78209-0f57b07806360b-3461790f-1296000-165e6c78d7953; __utmc=14951595; __utmz=14951595.1537175176.1.1.utmcsr=m_cf_cpt_sogou_pc|utmccn=(not%20set)|utmcmd=(not%20set); X_HTTP_TOKEN=b53ce1f559f492d4aa675d08bfaa8d93; _putrc=67FE3A6CCEBE7074123F89F2B170EADC; login=true; hasDeliver=0; index_location_city=%E5%85%A8%E5%9B%BD; unick=%E6%8B%89%E5%8B%BE%E7%94%A8%E6%88%B75537; showExpriedIndex=1; showExpriedCompanyHome=1; showExpriedMyPublish=1; TG-TRACK-CODE=hpage_code; _gid=GA1.2.853917511.1537426344; Hm_lvt_4233e74dff0ae5bd0a3d81c6ccf756e6=1536932564,1537493466; gate_login_token=e01fa7850a51394ffaf71ed7c09e74a0334afbf26258a1058ad444e019a133cc; _gat=1; LGSID=20180922093921-53fabb5c-be08-11e8-a53a-525400f775ce; PRE_UTM=; PRE_HOST=; PRE_SITE=; PRE_LAND=https%3A%2F%2Fwww.lagou.com%2Fgongsi%2Fj94.html; __utma=14951595.764376373.1536932562.1537577633.1537580362.9; __utmt=1; Hm_lpvt_4233e74dff0ae5bd0a3d81c6ccf756e6=1537580894; LGRID=20180922094813-915c616d-be09-11e8-bb56-5254005c3644; __utmb=14951595.2.10.1537580362\n",
    "JSESSIONID=ABAAABAAAGFABEF8929AE8AEDDF675B0A416152D50F1155; user_trace_token=20180914214240-a2c37a86-ee75-49d4-a447-7d7ec6386510; _ga=GA1.2.764376373.1536932562; LGUID=20180914214241-0d64224c-b824-11e8-b93f-5254005c3644; WEBTJ-ID=20180917170602-165e6c78d78209-0f57b07806360b-3461790f-1296000-165e6c78d7953; __utmc=14951595; __utmz=14951595.1537175176.1.1.utmcsr=m_cf_cpt_sogou_pc|utmccn=(not%20set)|utmcmd=(not%20set); X_HTTP_TOKEN=b53ce1f559f492d4aa675d08bfaa8d93; _putrc=67FE3A6CCEBE7074123F89F2B170EADC; login=true; hasDeliver=0; index_location_city=%E5%85%A8%E5%9B%BD; unick=%E6%8B%89%E5%8B%BE%E7%94%A8%E6%88%B75537; showExpriedIndex=1; showExpriedCompanyHome=1; showExpriedMyPublish=1; TG-TRACK-CODE=hpage_code; _gid=GA1.2.853917511.1537426344; Hm_lvt_4233e74dff0ae5bd0a3d81c6ccf756e6=1536932564,1537493466; gate_login_token=e01fa7850a51394ffaf71ed7c09e74a0334afbf26258a1058ad444e019a133cc; _gat=1; Hm_lpvt_4233e74dff0ae5bd0a3d81c6ccf756e6=1537580361; LGSID=20180922093921-53fabb5c-be08-11e8-a53a-525400f775ce; PRE_UTM=; PRE_HOST=; PRE_SITE=; PRE_LAND=https%3A%2F%2Fwww.lagou.com%2Fgongsi%2Fj94.html; LGRID=20180922093921-53fabd6e-be08-11e8-a53a-525400f775ce; __utma=14951595.764376373.1536932562.1537577633.1537580362.9; __utmt=1; __utmb=14951595.1.10.1537580362\n",
    "JSESSIONID=ABAAABAAAGFABEF8929AE8AEDDF675B0A416152D50F1155; user_trace_token=20180914214240-a2c37a86-ee75-49d4-a447-7d7ec6386510; _ga=GA1.2.764376373.1536932562; LGUID=20180914214241-0d64224c-b824-11e8-b93f-5254005c3644; WEBTJ-ID=20180917170602-165e6c78d78209-0f57b07806360b-3461790f-1296000-165e6c78d7953; __utmc=14951595; __utmz=14951595.1537175176.1.1.utmcsr=m_cf_cpt_sogou_pc|utmccn=(not%20set)|utmcmd=(not%20set); X_HTTP_TOKEN=b53ce1f559f492d4aa675d08bfaa8d93; _putrc=67FE3A6CCEBE7074123F89F2B170EADC; login=true; hasDeliver=0; index_location_city=%E5%85%A8%E5%9B%BD; unick=%E6%8B%89%E5%8B%BE%E7%94%A8%E6%88%B75537; showExpriedIndex=1; showExpriedCompanyHome=1; showExpriedMyPublish=1; TG-TRACK-CODE=hpage_code; _gid=GA1.2.853917511.1537426344; Hm_lvt_4233e74dff0ae5bd0a3d81c6ccf756e6=1536932564,1537493466; gate_login_token=e01fa7850a51394ffaf71ed7c09e74a0334afbf26258a1058ad444e019a133cc; _gat=1; Hm_lpvt_4233e74dff0ae5bd0a3d81c6ccf756e6=1537580361; LGSID=20180922093921-53fabb5c-be08-11e8-a53a-525400f775ce; PRE_UTM=; PRE_HOST=; PRE_SITE=; PRE_LAND=https%3A%2F%2Fwww.lagou.com%2Fgongsi%2Fj94.html; LGRID=20180922093921-53fabd6e-be08-11e8-a53a-525400f775ce; __utma=14951595.764376373.1536932562.1537577633.1537580362.9; __utmt=1; __utmb=14951595.1.10.1537580362"
   ]
  }
 ],
 "metadata": {
  "kernelspec": {
   "display_name": "Python 3",
   "language": "python",
   "name": "python3"
  },
  "language_info": {
   "codemirror_mode": {
    "name": "ipython",
    "version": 3
   },
   "file_extension": ".py",
   "mimetype": "text/x-python",
   "name": "python",
   "nbconvert_exporter": "python",
   "pygments_lexer": "ipython3",
   "version": "3.6.5"
  }
 },
 "nbformat": 4,
 "nbformat_minor": 2
}
