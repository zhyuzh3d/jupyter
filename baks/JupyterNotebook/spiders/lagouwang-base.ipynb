{
 "cells": [
  {
   "cell_type": "code",
   "execution_count": 1,
   "metadata": {},
   "outputs": [],
   "source": [
    "url='https://www.lagou.com/gongsi/searchPosition.json'\n",
    "params={\n",
    "    'companyId': '94',\n",
    "    'positionFirstType': '全部',\n",
    "    'schoolJob': 'true',\n",
    "    'pageNo': '1',\n",
    "    'pageSize': '10'\n",
    "}\n",
    "headers='''\n",
    "POST /gongsi/searchPosition.json HTTP/1.1\n",
    "Host: www.lagou.com\n",
    "Connection: keep-alive\n",
    "Origin: https://www.lagou.com\n",
    "X-Anit-Forge-Code: 38405859\n",
    "User-Agent: Mozilla/5.0 (Macintosh; Intel Mac OS X 10_14_0) AppleWebKit/537.36 (KHTML, like Gecko) Chrome/69.0.3497.100 Safari/537.36\n",
    "Content-Type: application/x-www-form-urlencoded; charset=UTF-8\n",
    "Accept: application/json, text/javascript, */*; q=0.01\n",
    "X-Requested-With: XMLHttpRequest\n",
    "X-Anit-Forge-Token: fcd0cae2-af8a-44b7-ae08-6cc103677fc1\n",
    "Referer: https://www.lagou.com/gongsi/j94.html\n",
    "Accept-Encoding: gzip, deflate, br\n",
    "Accept-Language: zh-CN,zh;q=0.9,en;q=0.8,zh-TW;q=0.7\n",
    "Cookie: JSESSIONID=ABAAABAAAGFABEF8929AE8AEDDF675B0A416152D50F1155; user_trace_token=20180914214240-a2c37a86-ee75-49d4-a447-7d7ec6386510; _ga=GA1.2.764376373.1536932562; LGUID=20180914214241-0d64224c-b824-11e8-b93f-5254005c3644; WEBTJ-ID=20180917170602-165e6c78d78209-0f57b07806360b-3461790f-1296000-165e6c78d7953; __utmc=14951595; __utmz=14951595.1537175176.1.1.utmcsr=m_cf_cpt_sogou_pc|utmccn=(not%20set)|utmcmd=(not%20set); X_HTTP_TOKEN=b53ce1f559f492d4aa675d08bfaa8d93; _putrc=67FE3A6CCEBE7074123F89F2B170EADC; login=true; hasDeliver=0; index_location_city=%E5%85%A8%E5%9B%BD; unick=%E6%8B%89%E5%8B%BE%E7%94%A8%E6%88%B75537; showExpriedIndex=1; showExpriedCompanyHome=1; showExpriedMyPublish=1; Hm_lvt_4233e74dff0ae5bd0a3d81c6ccf756e6=1536932564,1537493466; TG-TRACK-CODE=hpage_code; _gid=GA1.2.969240417.1537831173; gate_login_token=2b25e668e5c92f984fa699aa1142cccd6a9c3d914111e874bf297af1b325c383; __utma=14951595.764376373.1536932562.1537589263.1537831174.12; Hm_lpvt_4233e74dff0ae5bd0a3d81c6ccf756e6=1537831174; LGRID=20180925071933-4b7c4ce8-c050-11e8-bb5c-5254005c3644\n",
    "'''"
   ]
  },
  {
   "cell_type": "code",
   "execution_count": 2,
   "metadata": {},
   "outputs": [],
   "source": [
    "def str2obj(s,s1=';',s2='='):\n",
    "    li=s.split(s1)\n",
    "    res={}\n",
    "    for kv in li:\n",
    "        li2=kv.split(s2)\n",
    "        if len(li2)>1:\n",
    "            res[li2[0]]=li2[1]\n",
    "    return res\n",
    "headers=str2obj(headers,'\\n',': ')"
   ]
  },
  {
   "cell_type": "code",
   "execution_count": 3,
   "metadata": {},
   "outputs": [
    {
     "name": "stdout",
     "output_type": "stream",
     "text": [
      "职位\t薪酬\t学历\t经验\n",
      "项目管理\t5k-10k\t本科\t应届毕业生\n",
      "市场/商务方向\t5k-10k\t本科\t应届毕业生\n",
      "人力资源\t4k-6k\t本科\t应届毕业生\n",
      "产品经理\t10k-15k\t本科\t应届毕业生\n",
      "iOS/Android 移动端开发\t10k-15k\t本科\t应届毕业生\n",
      "智能引擎C/C++开发工程师\t10k-15k\t本科\t应届毕业生\n",
      "Java服务端开发工程师\t10k-15k\t本科\t应届毕业生\n",
      "大数据开发工程师\t15k-20k\t本科\t应届毕业生\n",
      "NLP算法研究员\t15k-20k\t硕士\t应届毕业生\n",
      "声纹识别工程师\t15k-22k\t硕士\t应届毕业生\n",
      "机器学习工程师\t15k-20k\t硕士\t应届毕业生\n",
      "语音信号处理工程师\t15k-20k\t硕士\t应届毕业生\n",
      "语音合成工程师\t15k-25k\t硕士\t应届毕业生\n",
      "语音识别工程师\t15k-22k\t硕士\t应届毕业生\n",
      "企宣文案实习生\t3k-5k\t本科\t应届毕业生\n"
     ]
    }
   ],
   "source": [
    "import json\n",
    "from bs4 import BeautifulSoup\n",
    "import requests\n",
    "import time\n",
    "\n",
    "hud=['职位','薪酬','学历','经验']\n",
    "print('\\t'.join(hud))\n",
    "for i in range(1,6):\n",
    "    params['pageNo']=i\n",
    "    jsonData=requests.get(url,params=params,headers=headers)\n",
    "    data=json.loads(jsonData.text)\n",
    "    jobs=data['content']['data']['page']['result']\n",
    "    for job in jobs:\n",
    "        jobli=[]\n",
    "        jobli.append(job['positionName'])\n",
    "        jobli.append(job['salary'])\n",
    "        jobli.append(job['education'])\n",
    "        jobli.append(job['workYear'])\n",
    "        print('\\t'.join(jobli))\n",
    "    time.sleep(1)   "
   ]
  }
 ],
 "metadata": {
  "kernelspec": {
   "display_name": "Python 3",
   "language": "python",
   "name": "python3"
  },
  "language_info": {
   "codemirror_mode": {
    "name": "ipython",
    "version": 3
   },
   "file_extension": ".py",
   "mimetype": "text/x-python",
   "name": "python",
   "nbconvert_exporter": "python",
   "pygments_lexer": "ipython3",
   "version": "3.6.5"
  }
 },
 "nbformat": 4,
 "nbformat_minor": 2
}
