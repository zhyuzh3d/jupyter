{
 "cells": [
  {
   "cell_type": "code",
   "execution_count": null,
   "metadata": {},
   "outputs": [],
   "source": [
    "url='https://www.lagou.com/gongsi/searchPosition.json'\n",
    "postData={\n",
    "    'companyId':'94',\n",
    "    'positionFirstType':'全部',\n",
    "    'schoolJob':'false',\n",
    "    'pageNo':'1',\n",
    "    'pageSize':'100',\n",
    "}\n",
    "headersData={\n",
    "    'Host': 'www.lagou.com',\n",
    "    'Connection': 'keep-alive',\n",
    "    'Content-Length': 86,\n",
    "    'Origin': 'https://www.lagou.com',\n",
    "    'X-Anit-Forge-Code': 30110384,\n",
    "    'User-Agent': 'Mozilla/5.0 (Macintosh; Intel Mac OS X 10_14_0) AppleWebKit/537.36 (KHTML, like Gecko) Chrome/68.0.3440.106 Safari/537.36',\n",
    "    'Content-Type': 'application/x-www-form-urlencoded; charset=UTF-8',\n",
    "    'Accept': 'application/json, text/javascript, */*; q=0.01',\n",
    "    'X-Requested-With': 'XMLHttpRequest',\n",
    "    'X-Anit-Forge-Token': 'a36af5af-237f-41b6-9dcd-daeb8f9116d9',\n",
    "    'Referer': 'https://www.lagou.com/gongsi/j94.html',\n",
    "    'Accept-Encoding': 'gzip, deflate, br',\n",
    "    'Accept-Language': 'zh-CN,zh;q=0.9,en;q=0.8,zh-TW;q=0.7',\n",
    "}"
   ]
  },
  {
   "cell_type": "code",
   "execution_count": null,
   "metadata": {},
   "outputs": [],
   "source": [
    "import scrapy\n",
    "class MySpider(scrapy.Spider):\n",
    "    name = 'test'\n",
    "    allowed_domains = ['www.lagou.com']\n",
    "    headers=headersData\n",
    "    body=postData\n",
    "    method='POST'\n",
    "    start_urls=[url]\n",
    "    custom_settings = {\n",
    "        'LOG_LEVEL': 'ERROR',\n",
    "    }\n",
    "    def start_requests(self):\n",
    "        req=scrapy.FormRequest(url,\n",
    "                               method = 'POST', \n",
    "                               headers = headersData, \n",
    "                               formdata=postData, \n",
    "                               callback = self.parse, \n",
    "                               dont_filter = True)\n",
    "        return [req]\n",
    "    def parse(self, response):\n",
    "        print(response.text)\n",
    "        pass"
   ]
  },
  {
   "cell_type": "code",
   "execution_count": null,
   "metadata": {},
   "outputs": [],
   "source": [
    "from scrapy.crawler import CrawlerProcess\n",
    "from scrapy.utils.project import get_project_settings\n",
    "process = CrawlerProcess(get_project_settings())\n",
    "process.crawl(MySpider)\n",
    "process.start()"
   ]
  }
 ],
 "metadata": {
  "kernelspec": {
   "display_name": "Python 3",
   "language": "python",
   "name": "python3"
  },
  "language_info": {
   "codemirror_mode": {
    "name": "ipython",
    "version": 3
   },
   "file_extension": ".py",
   "mimetype": "text/x-python",
   "name": "python",
   "nbconvert_exporter": "python",
   "pygments_lexer": "ipython3",
   "version": "3.6.5"
  }
 },
 "nbformat": 4,
 "nbformat_minor": 2
}
