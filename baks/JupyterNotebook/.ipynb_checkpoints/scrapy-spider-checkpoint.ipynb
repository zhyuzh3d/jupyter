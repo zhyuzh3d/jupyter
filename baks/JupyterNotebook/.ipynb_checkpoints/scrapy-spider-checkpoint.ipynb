{
 "cells": [
  {
   "cell_type": "code",
   "execution_count": 1,
   "metadata": {},
   "outputs": [],
   "source": [
    "import time\n",
    "dataFileName='data/'+str(time.time()).replace('.','')+'.dat'"
   ]
  },
  {
   "cell_type": "code",
   "execution_count": 2,
   "metadata": {},
   "outputs": [],
   "source": [
    "import scrapy\n",
    "class MySpider(scrapy.Spider):\n",
    "    name = 'movie'\n",
    "#     start_urls = ['http://www.dytt8.net']\n",
    "    start_urls = ['https://www.lagou.com/gongsi/j94.html']\n",
    "    custom_settings = {\n",
    "        'LOG_LEVEL': 'ERROR',\n",
    "    }\n",
    "    def parse(self, response):\n",
    "        with open(dataFileName,\"w\") as f:\n",
    "            f.write(response.text)\n",
    "            print('>>Get html ok!')\n",
    "        pass  "
   ]
  },
  {
   "cell_type": "code",
   "execution_count": 3,
   "metadata": {
    "scrolled": false
   },
   "outputs": [
    {
     "name": "stderr",
     "output_type": "stream",
     "text": [
      "2018-09-18 08:07:20 [scrapy.utils.log] INFO: Scrapy 1.5.1 started (bot: scrapybot)\n",
      "2018-09-18 08:07:20 [scrapy.utils.log] INFO: Versions: lxml 4.2.1.0, libxml2 2.9.8, cssselect 1.0.3, parsel 1.5.0, w3lib 1.19.0, Twisted 17.5.0, Python 3.6.5 |Anaconda, Inc.| (default, Apr 26 2018, 08:42:37) - [GCC 4.2.1 Compatible Clang 4.0.1 (tags/RELEASE_401/final)], pyOpenSSL 18.0.0 (OpenSSL 1.0.2p  14 Aug 2018), cryptography 2.2.2, Platform Darwin-18.0.0-x86_64-i386-64bit\n",
      "2018-09-18 08:07:20 [scrapy.crawler] INFO: Overridden settings: {'LOG_LEVEL': 'ERROR'}\n"
     ]
    },
    {
     "name": "stdout",
     "output_type": "stream",
     "text": [
      ">>Get html ok!\n"
     ]
    }
   ],
   "source": [
    "from scrapy.crawler import CrawlerProcess\n",
    "from scrapy.utils.project import get_project_settings\n",
    "process = CrawlerProcess(get_project_settings())\n",
    "process.crawl(MySpider)\n",
    "process.start()"
   ]
  },
  {
   "cell_type": "code",
   "execution_count": 5,
   "metadata": {},
   "outputs": [
    {
     "name": "stdout",
     "output_type": "stream",
     "text": [
      "电影天堂_免费电影_迅雷电影下载\n"
     ]
    }
   ],
   "source": [
    "from bs4 import BeautifulSoup as bsoup\n",
    "data=open(dataFileName).read()\n",
    "soup=bsoup(data)\n",
    "title=soup.find('title')\n",
    "print(title.string)"
   ]
  },
  {
   "cell_type": "code",
   "execution_count": null,
   "metadata": {},
   "outputs": [],
   "source": []
  }
 ],
 "metadata": {
  "kernelspec": {
   "display_name": "Python 3",
   "language": "python",
   "name": "python3"
  },
  "language_info": {
   "codemirror_mode": {
    "name": "ipython",
    "version": 3
   },
   "file_extension": ".py",
   "mimetype": "text/x-python",
   "name": "python",
   "nbconvert_exporter": "python",
   "pygments_lexer": "ipython3",
   "version": "3.6.5"
  }
 },
 "nbformat": 4,
 "nbformat_minor": 2
}
