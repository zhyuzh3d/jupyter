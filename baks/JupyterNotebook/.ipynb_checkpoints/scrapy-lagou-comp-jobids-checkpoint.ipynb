{
 "cells": [
  {
   "cell_type": "code",
   "execution_count": 1,
   "metadata": {},
   "outputs": [],
   "source": [
    "#基本设置\n",
    "class target(): \n",
    "    url='https://www.lagou.com/gongsi/searchPosition.json'\n",
    "    formdata={\n",
    "        'companyId': '94',\n",
    "        'positionFirstType': '全部',\n",
    "        'schoolJob': 'false',\n",
    "        'pageNo': '1',\n",
    "        'pageSize': '20',\n",
    "    }\n",
    "    headers={\n",
    "        'User-Agent': 'Chrome/60',\n",
    "        'Referer': 'https://www.lagou.com/gongsi/j94.html'\n",
    "    }"
   ]
  },
  {
   "cell_type": "code",
   "execution_count": 2,
   "metadata": {},
   "outputs": [],
   "source": [
    "#爬取\n",
    "import scrapy\n",
    "import json\n",
    "import time\n",
    "\n",
    "pages=[]\n",
    "\n",
    "class MySpider(scrapy.Spider):\n",
    "    name = 'jobs'\n",
    "    rate = 1\n",
    "    custom_settings = {\n",
    "        'LOG_LEVEL': 'ERROR',\n",
    "        'download_delay':'1'\n",
    "    }\n",
    "    \n",
    "    def start_requests(self):\n",
    "        print('>>getJobIds...')\n",
    "        for i in range(1,12):\n",
    "            target.formdata['pageNo']=str(i)\n",
    "            req=scrapy.FormRequest(url=target.url,\n",
    "                                 headers=target.headers,\n",
    "                                 formdata=target.formdata,\n",
    "                                 method='POST',\n",
    "                                 callback=self.getjobs,\n",
    "                                 dont_filter=True)\n",
    "            req.meta['page']=i                \n",
    "            yield req\n",
    "    \n",
    "    def getjobs(self, response):\n",
    "        jobsJson=json.loads(response.text)\n",
    "        print('>page:',response.meta['page'])\n",
    "        try:\n",
    "            result=jobsJson['content']['data']['page']['result']\n",
    "#             print(json.dumps(jobsJson['content']['data']['page']['totalCount'], indent=2,ensure_ascii=False))\n",
    "            for job in result:\n",
    "                print(job['positionId'])\n",
    "        except err:\n",
    "            print('Failed.')\n",
    "        pass"
   ]
  },
  {
   "cell_type": "code",
   "execution_count": 3,
   "metadata": {},
   "outputs": [
    {
     "name": "stderr",
     "output_type": "stream",
     "text": [
      "2018-09-21 09:37:29 [scrapy.utils.log] INFO: Scrapy 1.5.1 started (bot: scrapybot)\n",
      "2018-09-21 09:37:29 [scrapy.utils.log] INFO: Versions: lxml 4.2.1.0, libxml2 2.9.8, cssselect 1.0.3, parsel 1.5.0, w3lib 1.19.0, Twisted 17.5.0, Python 3.6.5 |Anaconda, Inc.| (default, Apr 26 2018, 08:42:37) - [GCC 4.2.1 Compatible Clang 4.0.1 (tags/RELEASE_401/final)], pyOpenSSL 18.0.0 (OpenSSL 1.0.2p  14 Aug 2018), cryptography 2.2.2, Platform Darwin-18.0.0-x86_64-i386-64bit\n",
      "2018-09-21 09:37:29 [scrapy.crawler] INFO: Overridden settings: {'CONCURRENT_REQUESTS_PER_DOMAIN': 1, 'DOWNLOAD_DELAY': 0.1, 'LOG_LEVEL': 'ERROR', 'USER_AGENT': 'Mozilla/4.0 (compatible; MSIE 7.0; Windows NT 5.1)'}\n"
     ]
    },
    {
     "name": "stdout",
     "output_type": "stream",
     "text": [
      ">>getJobIds...\n",
      ">page: 1\n",
      "\"103\"\n",
      "4887454\n",
      "5016185\n",
      "4887479\n",
      "4764167\n",
      "5014266\n",
      "5014290\n",
      "4802763\n",
      "4661802\n",
      "4368350\n",
      "4924274\n"
     ]
    }
   ],
   "source": [
    "from scrapy.crawler import CrawlerProcess\n",
    "process = CrawlerProcess({\n",
    "        'USER_AGENT': 'Mozilla/4.0 (compatible; MSIE 7.0; Windows NT 5.1)',\n",
    "        'DOWNLOAD_DELAY': 0.1 ,#每次请求后延迟秒数\n",
    "        'CONCURRENT_REQUESTS_PER_DOMAIN':1,\n",
    "})\n",
    "process.crawl(MySpider)\n",
    "process.start()"
   ]
  }
 ],
 "metadata": {
  "kernelspec": {
   "display_name": "Python 3",
   "language": "python",
   "name": "python3"
  },
  "language_info": {
   "codemirror_mode": {
    "name": "ipython",
    "version": 3
   },
   "file_extension": ".py",
   "mimetype": "text/x-python",
   "name": "python",
   "nbconvert_exporter": "python",
   "pygments_lexer": "ipython3",
   "version": "3.6.5"
  }
 },
 "nbformat": 4,
 "nbformat_minor": 2
}
