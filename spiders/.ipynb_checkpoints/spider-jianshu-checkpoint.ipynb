{
 "cells": [
  {
   "cell_type": "markdown",
   "metadata": {},
   "source": [
    "# 抓取简书我的文章列表，分析文章阅读量和关注数之间的关系"
   ]
  },
  {
   "cell_type": "markdown",
   "metadata": {},
   "source": [
    "## 抓取数据"
   ]
  },
  {
   "cell_type": "markdown",
   "metadata": {},
   "source": [
    "### 设置参数"
   ]
  },
  {
   "cell_type": "code",
   "execution_count": 1,
   "metadata": {},
   "outputs": [],
   "source": [
    "savePath='./data/jianshu'\n",
    "url = 'https://www.jianshu.com/u/ae784c57b353'\n",
    "params = {'order_by': 'shared_at', 'page': '1'}\n",
    "headers = '''\n",
    "GET /u/ae784c57b353 HTTP/1.1\n",
    "Host: www.jianshu.com\n",
    "Connection: keep-alive\n",
    "Cache-Control: max-age=0\n",
    "Upgrade-Insecure-Requests: 1\n",
    "User-Agent: Mozilla/5.0 (Macintosh; Intel Mac OS X 10_14_1) AppleWebKit/537.36 (KHTML, like Gecko) Chrome/69.0.3497.100 Safari/537.36\n",
    "Accept: text/html,application/xhtml+xml,application/xml;q=0.9,image/webp,image/apng,*/*;q=0.8\n",
    "Accept-Encoding: gzip, deflate, br\n",
    "Accept-Language: zh-CN,zh;q=0.9,en;q=0.8,zh-TW;q=0.7\n",
    "Cookie: read_mode=day; default_font=font2; locale=zh-CN; __utmc=194070582; OUTFOX_SEARCH_USER_ID_NCOO=803985542.3025359; __utmz=194070582.1537582220.70.13.utmcsr=google|utmccn=(organic)|utmcmd=organic|utmctr=(not%20provided); Hm_lvt_0c0e9d9b1e7d617b3e6842e85b9fb068=1537579916,1537582218,1538010741,1538010784; ___rl__test__cookies=1538199008053; __utma=194070582.1215389343.1531471453.1538278725.1538281932.95; remember_user_token=W1s0MzI0MDc0XSwiJDJhJDEwJFYuSVlKelA2LzlaV2luOWFUYVN6UU8iLCIxNTM4NzA0NzI1LjEwODc0NDkiXQ%3D%3D--82cb9b8d143fd24a59c6ba92c6f7a32dc866d526; _m7e_session=2bd6cd718de889a6ece6b9eec1547513; sensorsdata2015jssdkcross=%7B%22distinct_id%22%3A%224324074%22%2C%22%24device_id%22%3A%221642c49d4fd190-047301b1cbeb8b-17336955-1296000-1642c49d4ff755%22%2C%22props%22%3A%7B%22%24latest_traffic_source_type%22%3A%22%E7%9B%B4%E6%8E%A5%E6%B5%81%E9%87%8F%22%2C%22%24latest_referrer%22%3A%22%22%2C%22%24latest_referrer_host%22%3A%22%22%2C%22%24latest_search_keyword%22%3A%22%E6%9C%AA%E5%8F%96%E5%88%B0%E5%80%BC_%E7%9B%B4%E6%8E%A5%E6%89%93%E5%BC%80%22%2C%22%24latest_utm_source%22%3A%22recommendation%22%2C%22%24latest_utm_medium%22%3A%22seo_notes%22%2C%22%24latest_utm_campaign%22%3A%22maleskine%22%2C%22%24latest_utm_content%22%3A%22note%22%7D%2C%22first_id%22%3A%221642c49d4fd190-047301b1cbeb8b-17336955-1296000-1642c49d4ff755%22%7D; Hm_lpvt_0c0e9d9b1e7d617b3e6842e85b9fb068=1538705012\n",
    "If-None-Match: W/\"31291dc679ccd08938f27b1811f8b263\"\n",
    "'''"
   ]
  },
  {
   "cell_type": "markdown",
   "metadata": {},
   "source": [
    "### 转换headers为对象"
   ]
  },
  {
   "cell_type": "code",
   "execution_count": 2,
   "metadata": {},
   "outputs": [],
   "source": [
    "def str2obj(s, s1=';', s2='='):\n",
    "    li = s.split(s1)\n",
    "    res = {}\n",
    "    for kv in li:\n",
    "        li2 = kv.split(s2)\n",
    "        if len(li2) > 1:\n",
    "            res[li2[0]] = li2[1]\n",
    "    return res\n",
    "\n",
    "\n",
    "headers = str2obj(headers, '\\n', ': ')"
   ]
  },
  {
   "cell_type": "markdown",
   "metadata": {},
   "source": [
    "### 发送第一次请求,获取粉丝数和文章总数"
   ]
  },
  {
   "cell_type": "code",
   "execution_count": 3,
   "metadata": {},
   "outputs": [
    {
     "name": "stdout",
     "output_type": "stream",
     "text": [
      ">>文章总数 101\n"
     ]
    }
   ],
   "source": [
    "import requests\n",
    "from bs4 import BeautifulSoup\n",
    "\n",
    "html = requests.get(url, headers=headers)\n",
    "soup = BeautifulSoup(html.text, 'html.parser')\n",
    "afocus = soup.find('div', 'info').find_all('div','meta-block')[0].find('p').string\n",
    "afuns = soup.find('div', 'info').find_all('div','meta-block')[1].find('p').string\n",
    "acount = soup.find('div', 'info').find_all('div','meta-block')[2].find('p').string\n",
    "awords = soup.find('div', 'info').find_all('div','meta-block')[3].find('p').string\n",
    "alike = soup.find('div', 'info').find_all('div','meta-block')[4].find('p').string\n",
    "acount=int(acount)\n",
    "print('>>文章总数', acount)"
   ]
  },
  {
   "cell_type": "markdown",
   "metadata": {},
   "source": [
    "### 循环发送请求，获取每个文章的阅读量"
   ]
  },
  {
   "cell_type": "code",
   "execution_count": 4,
   "metadata": {},
   "outputs": [
    {
     "name": "stdout",
     "output_type": "stream",
     "text": [
      "已获取: 1\n",
      "已获取: 2\n",
      "已获取: 3\n",
      "已获取: 4\n",
      "已获取: 5\n",
      "已获取: 6\n",
      "已获取: 7\n",
      "已获取: 8\n",
      "已获取: 9\n",
      "已获取: 10\n",
      "已获取: 11\n",
      "已获取: 12\n",
      "已获取: 13\n",
      "已获取: 14\n",
      "已获取: 15\n",
      "已获取: 16\n",
      "已获取: 17\n",
      "已获取: 18\n",
      "已获取: 19\n",
      "已获取: 20\n",
      "已获取: 21\n",
      "已获取: 22\n",
      "已获取: 23\n",
      "已获取: 24\n",
      "已获取: 25\n",
      "已获取: 26\n",
      "已获取: 27\n",
      "已获取: 28\n",
      "已获取: 29\n",
      "已获取: 30\n",
      "已获取: 31\n",
      "已获取: 32\n",
      "已获取: 33\n",
      "已获取: 34\n",
      "已获取: 35\n",
      "已获取: 36\n",
      "已获取: 37\n",
      "已获取: 38\n",
      "已获取: 39\n",
      "已获取: 40\n",
      "已获取: 41\n",
      "已获取: 42\n",
      "已获取: 43\n",
      "已获取: 44\n",
      "已获取: 45\n",
      "已获取: 46\n",
      "已获取: 47\n",
      "已获取: 48\n",
      "已获取: 49\n",
      "已获取: 50\n",
      "已获取: 51\n",
      "已获取: 52\n",
      "已获取: 53\n",
      "已获取: 54\n",
      "已获取: 55\n",
      "已获取: 56\n",
      "已获取: 57\n",
      "已获取: 58\n",
      "已获取: 59\n",
      "已获取: 60\n",
      "已获取: 61\n",
      "已获取: 62\n",
      "已获取: 63\n",
      "已获取: 64\n",
      "已获取: 65\n",
      "已获取: 66\n",
      "已获取: 67\n",
      "已获取: 68\n",
      "已获取: 69\n",
      "已获取: 70\n",
      "已获取: 71\n",
      "已获取: 72\n",
      "已获取: 73\n",
      "已获取: 74\n",
      "已获取: 75\n",
      "已获取: 76\n",
      "已获取: 77\n",
      "已获取: 78\n",
      "已获取: 79\n",
      "已获取: 80\n",
      "已获取: 81\n",
      "已获取: 82\n",
      "已获取: 83\n",
      "已获取: 84\n",
      "已获取: 85\n",
      "已获取: 86\n",
      "已获取: 87\n",
      "已获取: 88\n",
      "已获取: 89\n",
      "已获取: 90\n",
      "已获取: 91\n",
      "已获取: 92\n",
      "已获取: 93\n",
      "已获取: 94\n",
      "已获取: 95\n",
      "已获取: 96\n",
      "已获取: 97\n",
      "已获取: 98\n",
      "已获取: 99\n",
      "已获取: 100\n",
      "已获取: 101\n"
     ]
    }
   ],
   "source": [
    "import math\n",
    "import time\n",
    "\n",
    "aread = 0\n",
    "pages = math.ceil(acount / 9)\n",
    "data = []\n",
    "for n in range(1, pages + 1):\n",
    "    params['page'] = str(n)\n",
    "    html = requests.get(url, params=params, headers=headers)\n",
    "    soup = BeautifulSoup(html.text, 'html.parser')\n",
    "    alist = soup.find_all('div', 'content')\n",
    "    for item in alist:\n",
    "        line = []\n",
    "        titleTag = item.find('a', 'title')  #标题行a标记\n",
    "        line.append(titleTag['href'])  #编号\n",
    "        line.append(titleTag.string)  #标题\n",
    "\n",
    "        read = item.find('div', 'meta').find('a').contents[2]\n",
    "        aread += int(read)  #计算总阅读量\n",
    "        line.append(str(int(read)))  #编号,先转int去掉空格回车，再转str才能进line\n",
    "\n",
    "        data.append(','.join(line))\n",
    "        print('已获取:', len(data))\n",
    "    time.sleep(1)"
   ]
  },
  {
   "cell_type": "code",
   "execution_count": 5,
   "metadata": {},
   "outputs": [],
   "source": [
    "tm = str(int(time.time()))\n",
    "fname = savePath + '/articles/articles_' + tm + '.csv'\n",
    "with open(fname, 'w', encoding=\"gb18030\") as f:\n",
    "    f.write('\\n'.join(data))\n",
    "    f.close()"
   ]
  },
  {
   "cell_type": "code",
   "execution_count": 6,
   "metadata": {},
   "outputs": [],
   "source": [
    "from os.path import exists\n",
    "alabels = ['time', 'focus', 'funs', 'articles', 'words', 'like', 'read']\n",
    "adata = [tm, afocus, afuns, str(acount), awords, alike, str(aread)]\n",
    "afname = savePath + '/articles_total.csv'\n",
    "if not exists(afname):\n",
    "    with open(afname, 'a', encoding=\"gb18030\") as f:\n",
    "        f.write(','.join(alabels) + '\\n')\n",
    "        f.close()\n",
    "with open(afname, 'a', encoding=\"gb18030\") as f:\n",
    "    f.write(','.join(adata) + '\\n')\n",
    "    f.close()"
   ]
  },
  {
   "cell_type": "code",
   "execution_count": 7,
   "metadata": {},
   "outputs": [
    {
     "name": "stdout",
     "output_type": "stream",
     "text": [
      ">>完成，保存在./data/articles_1538841695.csv\n"
     ]
    }
   ],
   "source": [
    "print('>>完成，保存在%s'%fname)"
   ]
  },
  {
   "cell_type": "code",
   "execution_count": null,
   "metadata": {},
   "outputs": [],
   "source": []
  }
 ],
 "metadata": {
  "kernelspec": {
   "display_name": "Python 3",
   "language": "python",
   "name": "python3"
  },
  "language_info": {
   "codemirror_mode": {
    "name": "ipython",
    "version": 3
   },
   "file_extension": ".py",
   "mimetype": "text/x-python",
   "name": "python",
   "nbconvert_exporter": "python",
   "pygments_lexer": "ipython3",
   "version": "3.6.5"
  }
 },
 "nbformat": 4,
 "nbformat_minor": 2
}
