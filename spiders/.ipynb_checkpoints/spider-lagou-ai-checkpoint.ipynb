{
 "cells": [
  {
   "cell_type": "markdown",
   "metadata": {},
   "source": [
    "## 拉钩搜索‘人工智能’职位列表，包含二级页面详情"
   ]
  },
  {
   "cell_type": "markdown",
   "metadata": {},
   "source": [
    "### 设置"
   ]
  },
  {
   "cell_type": "code",
   "execution_count": 1,
   "metadata": {},
   "outputs": [],
   "source": [
    "url = 'https://www.lagou.com/jobs/positionAjax.json?needAddtionalResult=false'\n",
    "params = {\n",
    "    'first': 'false',\n",
    "    'pn': '1',\n",
    "    'kd': '人工智能',\n",
    "}\n",
    "savePath='./data/lagou_ai'\n",
    "headers='''\n",
    "POST /jobs/positionAjax.json?needAddtionalResult=false HTTP/1.1\n",
    "Host: www.lagou.com\n",
    "Connection: keep-alive\n",
    "Origin: https://www.lagou.com\n",
    "X-Anit-Forge-Code: 0\n",
    "User-Agent: Mozilla/5.0 (Macintosh; Intel Mac OS X 10_14_1) AppleWebKit/537.36 (KHTML, like Gecko) Chrome/69.0.3497.100 Safari/537.36\n",
    "Content-Type: application/x-www-form-urlencoded; charset=UTF-8\n",
    "Accept: application/json, text/javascript, */*; q=0.01\n",
    "X-Requested-With: XMLHttpRequest\n",
    "X-Anit-Forge-Token: None\n",
    "Referer: https://www.lagou.com/jobs/list_%E4%BA%BA%E5%B7%A5%E6%99%BA%E8%83%BD?labelWords=&fromSearch=true&suginput=\n",
    "Accept-Encoding: gzip, deflate, br\n",
    "Accept-Language: zh-CN,zh;q=0.9,en;q=0.8,zh-TW;q=0.7\n",
    "Cookie: JSESSIONID=ABAAABAAAGFABEF8929AE8AEDDF675B0A416152D50F1155; user_trace_token=20180914214240-a2c37a86-ee75-49d4-a447-7d7ec6386510; _ga=GA1.2.764376373.1536932562; LGUID=20180914214241-0d64224c-b824-11e8-b93f-5254005c3644; WEBTJ-ID=20180917170602-165e6c78d78209-0f57b07806360b-3461790f-1296000-165e6c78d7953; __utmc=14951595; __utmz=14951595.1537175176.1.1.utmcsr=m_cf_cpt_sogou_pc|utmccn=(not%20set)|utmcmd=(not%20set); X_HTTP_TOKEN=b53ce1f559f492d4aa675d08bfaa8d93; _putrc=67FE3A6CCEBE7074123F89F2B170EADC; login=true; index_location_city=%E5%85%A8%E5%9B%BD; unick=%E6%8B%89%E5%8B%BE%E7%94%A8%E6%88%B75537; __utma=14951595.764376373.1536932562.1537831174.1537969747.13; Hm_lvt_4233e74dff0ae5bd0a3d81c6ccf756e6=1536932564,1537493466,1537971720,1537971743; _gid=GA1.2.149871887.1538874982; LGSID=20181007091622-9a243d33-c9ce-11e8-bb68-5254005c3644; PRE_UTM=; PRE_HOST=; PRE_SITE=; PRE_LAND=https%3A%2F%2Fwww.lagou.com%2F; TG-TRACK-CODE=search_code; SEARCH_ID=55185a7a6e294ec483df5c15b726598b; _gat=1; LGRID=20181007092755-37b31c47-c9d0-11e8-bb68-5254005c3644; Hm_lpvt_4233e74dff0ae5bd0a3d81c6ccf756e6=1538875676\n",
    "'''"
   ]
  },
  {
   "cell_type": "code",
   "execution_count": 2,
   "metadata": {},
   "outputs": [],
   "source": [
    "#转换headers为字典\n",
    "def str2obj(s, s1=';', s2='='):\n",
    "    li = s.split(s1)\n",
    "    res = {}\n",
    "    for kv in li:\n",
    "        li2 = kv.split(s2)\n",
    "        if len(li2) > 1:\n",
    "            res[li2[0]] = li2[1]\n",
    "    return res\n",
    "\n",
    "\n",
    "headers = str2obj(headers, '\\n', ': ')"
   ]
  },
  {
   "cell_type": "markdown",
   "metadata": {},
   "source": [
    "### 读取单个职位详情的函数"
   ]
  },
  {
   "cell_type": "code",
   "execution_count": 3,
   "metadata": {},
   "outputs": [],
   "source": [
    "from bs4 import BeautifulSoup\n",
    "\n",
    "\n",
    "def readJobDetails(pid):\n",
    "    html = requests.get(\n",
    "        'https://www.lagou.com/jobs/' + str(pid) + '.html', headers=headers)\n",
    "    soup = BeautifulSoup(html.text, 'html.parser')\n",
    "    res = soup.find('dd', 'job_bt').text.replace('\\n', '')\n",
    "    return res"
   ]
  },
  {
   "cell_type": "markdown",
   "metadata": {},
   "source": [
    "### 发起请求"
   ]
  },
  {
   "cell_type": "code",
   "execution_count": 4,
   "metadata": {},
   "outputs": [
    {
     "name": "stdout",
     "output_type": "stream",
     "text": [
      ">Got job: 4151003\n",
      ">Got job: 5050762\n",
      ">Got job: 4191251\n",
      ">Got job: 4961181\n",
      ">Got job: 4032843\n",
      ">Got job: 3699025\n",
      ">Got job: 5040054\n",
      ">Got job: 4854529\n",
      ">Got job: 5082135\n",
      ">Got job: 5138720\n",
      ">Got job: 4812066\n",
      ">Got job: 4996984\n",
      ">Got job: 4506756\n",
      ">Got job: 4409999\n",
      ">Got job: 3529487\n"
     ]
    }
   ],
   "source": [
    "import json\n",
    "import requests\n",
    "import time\n",
    "\n",
    "for n in range(1, 30):\n",
    "    params['pn'] = n\n",
    "    jsonData = requests.get(url, params=params, headers=headers)\n",
    "    data = json.loads(jsonData.text)\n",
    "    jobs = data['content']['positionResult']['result']\n",
    "    for job in jobs:\n",
    "        pid = str(job['positionId'])\n",
    "        fname = savePath + '/jobs/' + pid + '.json'\n",
    "        job['details'] = readJobDetails(job['positionId'])\n",
    "        with open(fname, 'w') as f:\n",
    "            f.write(json.dumps(job))\n",
    "            f.close()\n",
    "        print('>Got job:', pid)\n",
    "        time.sleep(1)\n",
    "    time.sleep(1)\n",
    "print('>Finished!')"
   ]
  }
 ],
 "metadata": {
  "kernelspec": {
   "display_name": "Python 3",
   "language": "python",
   "name": "python3"
  },
  "language_info": {
   "codemirror_mode": {
    "name": "ipython",
    "version": 3
   },
   "file_extension": ".py",
   "mimetype": "text/x-python",
   "name": "python",
   "nbconvert_exporter": "python",
   "pygments_lexer": "ipython3",
   "version": "3.6.5"
  }
 },
 "nbformat": 4,
 "nbformat_minor": 2
}
