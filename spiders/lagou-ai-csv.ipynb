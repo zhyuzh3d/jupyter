{
 "cells": [
  {
   "cell_type": "markdown",
   "metadata": {},
   "source": [
    "### 读取一个文件"
   ]
  },
  {
   "cell_type": "code",
   "execution_count": 16,
   "metadata": {},
   "outputs": [],
   "source": [
    "def range2two(s, unit):\n",
    "    s = s.replace(unit, '')  #去掉单位k、年、人\n",
    "    s = s.replace(' ', '')  #去掉空格\n",
    "    l = s.split('-')\n",
    "    res = {\n",
    "        'low': str(l[0]), \n",
    "        'high': str(l[1]) if len(l) > 1 else 'None'\n",
    "    }\n",
    "    return res"
   ]
  },
  {
   "cell_type": "code",
   "execution_count": 25,
   "metadata": {},
   "outputs": [],
   "source": [
    "import json\n",
    "labels = [\n",
    "    'positionId', 'positionName', 'workYear', 'education', 'createTime',\n",
    "    'salary', 'city', 'companyFullName', 'companySize', 'financeStage',\n",
    "    'firstType', 'secondType', 'details'\n",
    "]\n",
    "labels2 = [\n",
    "    'salary_low', 'salary_high', 'workYear_low', 'workYear_high',\n",
    "    'companySize_low', 'companySize_high'\n",
    "]\n",
    "\n",
    "\n",
    "def readJob(fileName):\n",
    "    with open(fileName, 'r') as f:\n",
    "        job = json.load(f)\n",
    "        line = []\n",
    "        for key in labels:\n",
    "            line.append(str(job[key]).replace(',','，'))  #添加所有labels的字段，用中文逗号替换英文逗号，避免分割混乱\n",
    "\n",
    "        salaries = range2two(job['salary'], 'k')\n",
    "        workYears = range2two(job['workYear'], '年')\n",
    "        companySizes = range2two(job['companySize'], '人')\n",
    "        line += [salaries['low'], salaries['high']]\n",
    "        line += [workYears['low'], workYears['high']]\n",
    "        line += [companySizes['low'], companySizes['high']]\n",
    "\n",
    "        return ','.join(line)"
   ]
  },
  {
   "cell_type": "code",
   "execution_count": 37,
   "metadata": {},
   "outputs": [
    {
     "name": "stdout",
     "output_type": "stream",
     "text": [
      ">>OK!\n"
     ]
    }
   ],
   "source": [
    "import os\n",
    "files = os.listdir('./data/lagou_ai/jobs/')  #获取所有文件列表\n",
    "with open('./data/lagou_ai/jobs.csv', 'w', encoding=\"gb18030\") as f:\n",
    "    text = ''\n",
    "    text += ','.join(labels + labels2)\n",
    "\n",
    "    for fname in files:\n",
    "        if not fname.find('.json')==-1: \n",
    "            text += '\\n'\n",
    "            text += readJob('./data/lagou_ai/jobs/' + fname)\n",
    "    f.write(text)\n",
    "    f.close()\n",
    "    print('>>OK!')"
   ]
  }
 ],
 "metadata": {
  "kernelspec": {
   "display_name": "Python 3",
   "language": "python",
   "name": "python3"
  },
  "language_info": {
   "codemirror_mode": {
    "name": "ipython",
    "version": 3
   },
   "file_extension": ".py",
   "mimetype": "text/x-python",
   "name": "python",
   "nbconvert_exporter": "python",
   "pygments_lexer": "ipython3",
   "version": "3.6.5"
  }
 },
 "nbformat": 4,
 "nbformat_minor": 2
}
