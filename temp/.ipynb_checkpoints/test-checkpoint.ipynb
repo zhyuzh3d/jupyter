{
 "cells": [
  {
   "cell_type": "code",
   "execution_count": 1,
   "metadata": {},
   "outputs": [],
   "source": [
    "with open('a.csv','w') as f:\n",
    "    f.write('a,b,c\\n1,2,3')\n",
    " "
   ]
  },
  {
   "cell_type": "code",
   "execution_count": 8,
   "metadata": {},
   "outputs": [
    {
     "name": "stdout",
     "output_type": "stream",
     "text": [
      "2018-10-05 14:47:11\n"
     ]
    }
   ],
   "source": [
    "import time,datetime\n",
    "tm=int(time.time())\n",
    "print(datetime.datetime.fromtimestamp(tm).strftime('%Y-%m-%d %H:%M:%S'))\n"
   ]
  },
  {
   "cell_type": "code",
   "execution_count": 11,
   "metadata": {},
   "outputs": [],
   "source": [
    "with open('b.csv','a') as f:\n",
    "    f.write('xxxx')    "
   ]
  },
  {
   "cell_type": "code",
   "execution_count": 12,
   "metadata": {},
   "outputs": [],
   "source": [
    "from os.path import exists\n",
    "if exists('c.txt'):\n",
    "    with open('c.txt','a') as f:\n",
    "        f.write('exist') \n",
    "else:\n",
    "    with open('c.txt','a') as f:\n",
    "        f.write('none')"
   ]
  },
  {
   "cell_type": "code",
   "execution_count": null,
   "metadata": {},
   "outputs": [],
   "source": []
  }
 ],
 "metadata": {
  "kernelspec": {
   "display_name": "Python 3",
   "language": "python",
   "name": "python3"
  },
  "language_info": {
   "codemirror_mode": {
    "name": "ipython",
    "version": 3
   },
   "file_extension": ".py",
   "mimetype": "text/x-python",
   "name": "python",
   "nbconvert_exporter": "python",
   "pygments_lexer": "ipython3",
   "version": "3.6.5"
  }
 },
 "nbformat": 4,
 "nbformat_minor": 2
}
