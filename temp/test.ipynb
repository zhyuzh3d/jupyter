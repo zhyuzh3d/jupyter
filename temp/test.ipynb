{
 "cells": [
  {
   "cell_type": "code",
   "execution_count": 25,
   "metadata": {
    "scrolled": true
   },
   "outputs": [
    {
     "name": "stdout",
     "output_type": "stream",
     "text": [
      "韩语专员\n",
      "职位描述：中国企业在韩国一个行业衰退，最大的特征是人才开始流失，如果你发现身边优秀的人才都一个个接着离开公司了，你为什么还呆在里面？当你发现身边韩企的中国人才越来越少的时候，你不用太惊讶，因为时代的趋势决定了这些企业在衰退。如果你现在还不从中出来或者现在还想着进入韩企，那么你注定要与这个时代背道而驰，那么注定要被快速发展的时代淘汰！如今时代发展的潮流是互联网+金融、教育、人工智能，这些我们都有，你还在没有意识到什么吗？弘历集团2018年又将开疆扩土了，我们把视野放在了韩国。我们不是韩企，但我们依然有信心要把弘历的旗子插在韩国的国土上，我们的信心源于我们的实力。1998年在北京成立，2001年进军上海，2008年走出国门，2009年开拓新加坡，2013年开拓马来西亚，2015年泰国、加拿大，2017年越南市场，2018年韩国、日本、印尼、台湾。岗位职责1、韩国客户信息收集、整理、汇总，分析客户需求2、电话回访客户，确认客户需求3、针对客户需求安排相应培训课程4、在课程中分析、讲解产品功能5、满足客户需求，提高客户满意度，达成销售目标6、对客户进行培训，建立品牌效应和口碑效应任职资格1、韩语流畅，朝鲜族优先，非朝族韩语5级2、亲和力强，喜欢和人打交道3、喜欢挑战新鲜事物，挑战自己4、喜欢学习，求知欲望强烈，好奇心强5、有独立思考能力，能够独立做决定你将收获的1、薪资：（1）享受一个月的免费培训，公司高级讲师、一级讲师免费培训，每天享受100元补助（2）实习期间：底薪+提成（10%-20%）+奖金（100、200、1000、2000、5000不等）=6000-80002、晋升：韩国派驻-韩国店长-韩国经理-东亚市场总监3、住宿：北京培训期间提供住宿（天安门附近10分钟车程，可以骑着小黄车看升国旗）4、保障：每个月父母有机会获得孝薪基金，公司代你孝敬父母（例如：国内880/月，马来西亚2000元/月）5、福利：每年14天带薪休假，公司包机票。优秀员工新马泰国际游6、氛围：二环以内，办公环境优美。办公室有mini版超市，咖啡、冷饮、饼干、甜点、小吃应有尽有。韩国距离中国这么近，你还在犹豫什么？朝鲜族、学习韩语的同学，我们都欢迎你的加入！你明明知道自己不喜欢现在的自己的生活，却没有改变现状的执行力！不满足自己的现状，那么总该为了改变自己做点什么了。那么就从现在开始吧！现在就是投递一份简历，这是你突破自己的关键一步！简历投递HR：汪女士（C）公司官网：www.homilychart.com公司地址北京市东城区广渠门外广渠家园10号楼乘车路线地铁：地铁7号线广渠门外站D出口（从地铁到公司走路时间仅需2分钟）公交：公交车23路 ,57路 ,637路 ,快速直达专线89路马圈站下。工作地址北京市东城区广渠门外广渠家园10号楼\n"
     ]
    }
   ],
   "source": [
    "import pandas as pd\n",
    "data = pd.read_json('file:/Users/zhyuzh/Desktop/Jupyter/spiders/data/lagou_ai/jobs/4740278.json', typ='series')\n",
    "print(data['positionName'])\n",
    "print(data['details'])"
   ]
  },
  {
   "cell_type": "code",
   "execution_count": 21,
   "metadata": {},
   "outputs": [
    {
     "name": "stdout",
     "output_type": "stream",
     "text": [
      "30\n"
     ]
    }
   ],
   "source": [
    "for n in range(30,31):\n",
    "    print(n)"
   ]
  },
  {
   "cell_type": "code",
   "execution_count": 28,
   "metadata": {},
   "outputs": [
    {
     "data": {
      "text/plain": [
       "True"
      ]
     },
     "execution_count": 28,
     "metadata": {},
     "output_type": "execute_result"
    }
   ],
   "source": [
    "not 'sss.csv'.find('.csv')==-1"
   ]
  },
  {
   "cell_type": "code",
   "execution_count": 1,
   "metadata": {},
   "outputs": [],
   "source": [
    "with open('a.csv','w') as f:\n",
    "    f.write('a,b,c\\n1,2,3')\n",
    " "
   ]
  },
  {
   "cell_type": "code",
   "execution_count": 8,
   "metadata": {},
   "outputs": [
    {
     "name": "stdout",
     "output_type": "stream",
     "text": [
      "2018-10-05 14:47:11\n"
     ]
    }
   ],
   "source": [
    "import time,datetime\n",
    "tm=int(time.time())\n",
    "print(datetime.datetime.fromtimestamp(tm).strftime('%Y-%m-%d %H:%M:%S'))\n"
   ]
  },
  {
   "cell_type": "code",
   "execution_count": 11,
   "metadata": {},
   "outputs": [],
   "source": [
    "with open('b.csv','a') as f:\n",
    "    f.write('xxxx')    "
   ]
  },
  {
   "cell_type": "code",
   "execution_count": 14,
   "metadata": {},
   "outputs": [],
   "source": [
    "from os.path import exists\n",
    "if exists('c.txt'):\n",
    "    with open('c.txt','a') as f:\n",
    "        f.write('exist') \n",
    "else:\n",
    "    with open('c.txt','a') as f:\n",
    "        f.write('none')"
   ]
  },
  {
   "cell_type": "code",
   "execution_count": 10,
   "metadata": {},
   "outputs": [
    {
     "name": "stdout",
     "output_type": "stream",
     "text": [
      "苏州青天网络科技有限公司\n"
     ]
    }
   ],
   "source": [
    "s='ËÕÖÝÇàÌìÍøÂç¿Æ¼¼ÓÐÏÞ¹«Ë¾'\n",
    "s=s.encode('ISO-8859-1').decode('gbk')\n",
    "print(s)"
   ]
  },
  {
   "cell_type": "code",
   "execution_count": null,
   "metadata": {},
   "outputs": [],
   "source": []
  }
 ],
 "metadata": {
  "kernelspec": {
   "display_name": "Python 3",
   "language": "python",
   "name": "python3"
  },
  "language_info": {
   "codemirror_mode": {
    "name": "ipython",
    "version": 3
   },
   "file_extension": ".py",
   "mimetype": "text/x-python",
   "name": "python",
   "nbconvert_exporter": "python",
   "pygments_lexer": "ipython3",
   "version": "3.6.5"
  }
 },
 "nbformat": 4,
 "nbformat_minor": 2
}
